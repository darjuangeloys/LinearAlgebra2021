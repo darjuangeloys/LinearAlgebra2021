{
  "nbformat": 4,
  "nbformat_minor": 0,
  "metadata": {
    "colab": {
      "name": "Assignment6.ipynb",
      "provenance": [],
      "collapsed_sections": [],
      "authorship_tag": "ABX9TyO30oEuEqii60YIVCKSzWLK",
      "include_colab_link": true
    },
    "kernelspec": {
      "name": "python3",
      "display_name": "Python 3"
    },
    "language_info": {
      "name": "python"
    }
  },
  "cells": [
    {
      "cell_type": "markdown",
      "metadata": {
        "id": "view-in-github",
        "colab_type": "text"
      },
      "source": [
        "<a href=\"https://colab.research.google.com/github/darjuangeloys/LinearAlgebra2021/blob/main/Assignment6.ipynb\" target=\"_parent\"><img src=\"https://colab.research.google.com/assets/colab-badge.svg\" alt=\"Open In Colab\"/></a>"
      ]
    },
    {
      "cell_type": "markdown",
      "metadata": {
        "id": "91VxO6HtEiaq"
      },
      "source": [
        "# Linear Algebra for ECE\n",
        "## Laboratory 6: Matrix Operations"
      ]
    },
    {
      "cell_type": "markdown",
      "metadata": {
        "id": "1SwDfo-VEoLa"
      },
      "source": [
        "Now that you have a fundamental knowledge about representing and operating with vectors as well as the fundameentals of matrices, we'll try to the same operations with matrices and even more."
      ]
    },
    {
      "cell_type": "markdown",
      "metadata": {
        "id": "X37_Qwg3EwLf"
      },
      "source": [
        "#### Objectives\n",
        "\n",
        "At the end of this activity you will be able to:\n",
        "1. Be familiar with the fundamental matrix operations.\n",
        "2. Apply the operations to solve intermediate equations.\n",
        "3. Apply matrix algebra in engineering solutions."
      ]
    },
    {
      "cell_type": "markdown",
      "metadata": {
        "id": "3XEoCqYlE-fO"
      },
      "source": [
        "## Discussion"
      ]
    },
    {
      "cell_type": "code",
      "metadata": {
        "id": "hTajBQNIDjMN"
      },
      "source": [
        "import numpy as np\n",
        "import matplotlib.pyplot as plt\n",
        "%matplotlib inline"
      ],
      "execution_count": null,
      "outputs": []
    },
    {
      "cell_type": "markdown",
      "metadata": {
        "id": "oSF_of7zHIQi"
      },
      "source": [
        "## Transposition"
      ]
    },
    {
      "cell_type": "markdown",
      "metadata": {
        "id": "yTf5Rx_uHKDP"
      },
      "source": [
        "One of the fundamental operations in matrix algebra is Transposition. The transpose of a matrix is done by flipping the values of its elements over its diagonals. With this, the rows and columns from the original matrix will be switched. So for a matrix $A$ its tranpose is denoted as $A^T$. So for example:"
      ]
    },
    {
      "cell_type": "markdown",
      "metadata": {
        "id": "rRavMNFxHi7H"
      },
      "source": [
        "$$A = \\begin{bmatrix} 1 & 2 & 5\\\\5 & -1 &0 \\\\ 0 & -3 & 3\\end{bmatrix} $$"
      ]
    },
    {
      "cell_type": "markdown",
      "metadata": {
        "id": "qUnItph5H2EO"
      },
      "source": [
        "$$A^T = \\begin{bmatrix} 1 & 5 & 0\\\\2 & -1 & -3 \\\\ 5 & 0 & 3\\end{bmatrix} $$"
      ]
    },
    {
      "cell_type": "markdown",
      "metadata": {
        "id": "2-VeaCdoH4DG"
      },
      "source": [
        "This can now be achieved programmatically by using `np.transpose()` or using the `T` method"
      ]
    },
    {
      "cell_type": "code",
      "metadata": {
        "colab": {
          "base_uri": "https://localhost:8080/"
        },
        "id": "Cl5tmOb0H4pf",
        "outputId": "2d4e36a7-1288-4673-aa81-1aef5769b989"
      },
      "source": [
        "A = np.array([\n",
        "      [1, 2, 5],\n",
        "      [5, -1, 0],\n",
        "      [0, -3, 3]        \n",
        "])\n",
        "A"
      ],
      "execution_count": null,
      "outputs": [
        {
          "output_type": "execute_result",
          "data": {
            "text/plain": [
              "array([[ 1,  2,  5],\n",
              "       [ 5, -1,  0],\n",
              "       [ 0, -3,  3]])"
            ]
          },
          "metadata": {},
          "execution_count": 4
        }
      ]
    },
    {
      "cell_type": "code",
      "metadata": {
        "colab": {
          "base_uri": "https://localhost:8080/"
        },
        "id": "lw91GspBHHfj",
        "outputId": "1e535a20-4997-46ae-d0c4-f329e653a358"
      },
      "source": [
        "AT1 = np.transpose(A)\n",
        "AT1"
      ],
      "execution_count": null,
      "outputs": [
        {
          "output_type": "execute_result",
          "data": {
            "text/plain": [
              "array([[ 1,  5,  0],\n",
              "       [ 2, -1, -3],\n",
              "       [ 5,  0,  3]])"
            ]
          },
          "metadata": {},
          "execution_count": 5
        }
      ]
    },
    {
      "cell_type": "code",
      "metadata": {
        "colab": {
          "base_uri": "https://localhost:8080/"
        },
        "id": "1B71GN22Imjg",
        "outputId": "b12da7a3-c38a-49ee-ce9d-1fcd4deaef8c"
      },
      "source": [
        "AT2 = A.T\n",
        "AT2"
      ],
      "execution_count": null,
      "outputs": [
        {
          "output_type": "execute_result",
          "data": {
            "text/plain": [
              "array([[ 1,  5,  0],\n",
              "       [ 2, -1, -3],\n",
              "       [ 5,  0,  3]])"
            ]
          },
          "metadata": {},
          "execution_count": 6
        }
      ]
    },
    {
      "cell_type": "code",
      "metadata": {
        "colab": {
          "base_uri": "https://localhost:8080/"
        },
        "id": "cfBml8agIqPb",
        "outputId": "6776f3c4-dfc9-4530-a049-0c2ef6d007af"
      },
      "source": [
        "np.array_equiv(AT1,AT2)"
      ],
      "execution_count": null,
      "outputs": [
        {
          "output_type": "execute_result",
          "data": {
            "text/plain": [
              "True"
            ]
          },
          "metadata": {},
          "execution_count": 7
        }
      ]
    },
    {
      "cell_type": "code",
      "metadata": {
        "colab": {
          "base_uri": "https://localhost:8080/"
        },
        "id": "GT8Ttvx2IyLo",
        "outputId": "fa304cb6-0569-4aa0-9a24-245f8f90fc25"
      },
      "source": [
        "B = np.array([\n",
        "  [1, 2, 3, 4],\n",
        "  [1, 0, 2, 1]\n",
        "])\n",
        "B.shape"
      ],
      "execution_count": null,
      "outputs": [
        {
          "output_type": "execute_result",
          "data": {
            "text/plain": [
              "(2, 4)"
            ]
          },
          "metadata": {},
          "execution_count": 9
        }
      ]
    },
    {
      "cell_type": "code",
      "metadata": {
        "colab": {
          "base_uri": "https://localhost:8080/"
        },
        "id": "lqnhMoZNKk9g",
        "outputId": "5ab29110-3f78-44de-894d-2e8973dbb93c"
      },
      "source": [
        "np.transpose(B).shape"
      ],
      "execution_count": null,
      "outputs": [
        {
          "output_type": "execute_result",
          "data": {
            "text/plain": [
              "(4, 2)"
            ]
          },
          "metadata": {},
          "execution_count": 10
        }
      ]
    },
    {
      "cell_type": "code",
      "metadata": {
        "colab": {
          "base_uri": "https://localhost:8080/"
        },
        "id": "wbfkhhuiJPtC",
        "outputId": "a0792961-1070-4bdd-eb86-03396bb71f9c"
      },
      "source": [
        "B.T.shape"
      ],
      "execution_count": null,
      "outputs": [
        {
          "output_type": "execute_result",
          "data": {
            "text/plain": [
              "(4, 2)"
            ]
          },
          "metadata": {},
          "execution_count": 11
        }
      ]
    },
    {
      "cell_type": "markdown",
      "metadata": {
        "id": "pNNKLHWyLKjU"
      },
      "source": [
        "#### Try to create your own matrix (you can try non-squares) to test transposition."
      ]
    },
    {
      "cell_type": "code",
      "metadata": {
        "colab": {
          "base_uri": "https://localhost:8080/"
        },
        "id": "f2z_G66mKxu0",
        "outputId": "1dabac64-963b-41f3-d6c7-643c9e183b13"
      },
      "source": [
        "C = np.array([\n",
        "   [3, 5, -6, -2],\n",
        "   [0, -1, 4, 0],\n",
        "   [-7, 5, 2, -3]           \n",
        "])\n",
        "C"
      ],
      "execution_count": null,
      "outputs": [
        {
          "output_type": "execute_result",
          "data": {
            "text/plain": [
              "array([[ 3,  5, -6, -2],\n",
              "       [ 0, -1,  4,  0],\n",
              "       [-7,  5,  2, -3]])"
            ]
          },
          "metadata": {},
          "execution_count": 12
        }
      ]
    },
    {
      "cell_type": "code",
      "metadata": {
        "colab": {
          "base_uri": "https://localhost:8080/"
        },
        "id": "Dei7Jb7bLw6Q",
        "outputId": "90f3d435-2374-497e-b3ed-de14b4c9023f"
      },
      "source": [
        "CT1 = np.transpose(C)\n",
        "CT1"
      ],
      "execution_count": null,
      "outputs": [
        {
          "output_type": "execute_result",
          "data": {
            "text/plain": [
              "array([[ 3,  0, -7],\n",
              "       [ 5, -1,  5],\n",
              "       [-6,  4,  2],\n",
              "       [-2,  0, -3]])"
            ]
          },
          "metadata": {},
          "execution_count": 14
        }
      ]
    },
    {
      "cell_type": "code",
      "metadata": {
        "colab": {
          "base_uri": "https://localhost:8080/"
        },
        "id": "VV_HRNwTL5pa",
        "outputId": "f2241986-70bc-43f4-cf4f-714c7644f271"
      },
      "source": [
        "CT2 = C.T\n",
        "CT2"
      ],
      "execution_count": null,
      "outputs": [
        {
          "output_type": "execute_result",
          "data": {
            "text/plain": [
              "array([[ 3,  0, -7],\n",
              "       [ 5, -1,  5],\n",
              "       [-6,  4,  2],\n",
              "       [-2,  0, -3]])"
            ]
          },
          "metadata": {},
          "execution_count": 16
        }
      ]
    },
    {
      "cell_type": "code",
      "metadata": {
        "colab": {
          "base_uri": "https://localhost:8080/"
        },
        "id": "-9-aDilhL8RF",
        "outputId": "a839a48e-f0f1-447d-80f5-30c11baeb627"
      },
      "source": [
        "C.shape"
      ],
      "execution_count": null,
      "outputs": [
        {
          "output_type": "execute_result",
          "data": {
            "text/plain": [
              "(3, 4)"
            ]
          },
          "metadata": {},
          "execution_count": 17
        }
      ]
    },
    {
      "cell_type": "code",
      "metadata": {
        "colab": {
          "base_uri": "https://localhost:8080/"
        },
        "id": "vz4D22jZMDqS",
        "outputId": "0ceca989-61e5-4f0c-867d-45901b17899a"
      },
      "source": [
        "C.T.shape"
      ],
      "execution_count": null,
      "outputs": [
        {
          "output_type": "execute_result",
          "data": {
            "text/plain": [
              "(4, 3)"
            ]
          },
          "metadata": {},
          "execution_count": 18
        }
      ]
    },
    {
      "cell_type": "markdown",
      "metadata": {
        "id": "tQBQ6Ko0MjFN"
      },
      "source": [
        "## Dot Product / Inner Product"
      ]
    },
    {
      "cell_type": "markdown",
      "metadata": {
        "id": "F8MKqtkxMpaZ"
      },
      "source": [
        "If you recall the dot product from the laboratory activity before, we will try to implement the same operation with matrices. In matrix dot product we are going to get the sum of products of the vectors by row-column piars. So if we have two matrices $X$ and $Y$:\n",
        "\n",
        "$$X = \\begin{bmatrix}x_{(0,0)}&x_{(0,1)}\\\\ x_{(1,0)}&x_{(1,1)}\\end{bmatrix}, Y = \\begin{bmatrix}y_{(0,0)}&y_{(0,1)}\\\\ y_{(1,0)}&y_{(1,1)}\\end{bmatrix}$$\n",
        "\n",
        "The dot product will then be computed as:\n",
        "$$X \\cdot Y= \\begin{bmatrix} x_{(0,0)}*y_{(0,0)} + x_{(0,1)}*y_{(1,0)} & x_{(0,0)}*y_{(0,1)} + x_{(0,1)}*y_{(1,1)} \\\\  x_{(1,0)}*y_{(0,0)} + x_{(1,1)}*y_{(1,0)} & x_{(1,0)}*y_{(0,1)} + x_{(1,1)}*y_{(1,1)}\n",
        "\\end{bmatrix}$$\n",
        "\n",
        "So if we assign values to $X$ and $Y$:\n",
        "$$X = \\begin{bmatrix}1&2\\\\ 0&1\\end{bmatrix}, Y = \\begin{bmatrix}-1&0\\\\ 2&2\\end{bmatrix}$$"
      ]
    },
    {
      "cell_type": "markdown",
      "metadata": {
        "id": "l6Wi2-YkK2Dc"
      },
      "source": [
        "$$X \\cdot Y= \\begin{bmatrix} 1*-1 + 2*2 & 1*0 + 2*2 \\\\  0*-1 + 1*2 & 0*0 + 1*2 \\end{bmatrix} = \\begin{bmatrix} 3 & 4 \\\\2 & 2 \\end{bmatrix}$$\n",
        "This could be achieved programmatically using `np.dot()`, `np.matmul()` or the `@` operator."
      ]
    },
    {
      "cell_type": "code",
      "metadata": {
        "id": "lXydmIA4L_Tx"
      },
      "source": [
        "X = np.array([\n",
        "    [1,2],\n",
        "    [0,1]\n",
        "])\n",
        "Y = np.array([\n",
        "    [-1,0],\n",
        "    [2,2]\n",
        "])"
      ],
      "execution_count": null,
      "outputs": []
    },
    {
      "cell_type": "code",
      "metadata": {
        "colab": {
          "base_uri": "https://localhost:8080/"
        },
        "id": "jb9f2wzGK85k",
        "outputId": "d2f8b431-9363-44a8-8f11-b1e48c49795b"
      },
      "source": [
        "np.array_equiv(X, Y)"
      ],
      "execution_count": null,
      "outputs": [
        {
          "output_type": "execute_result",
          "data": {
            "text/plain": [
              "False"
            ]
          },
          "metadata": {},
          "execution_count": 6
        }
      ]
    },
    {
      "cell_type": "code",
      "metadata": {
        "colab": {
          "base_uri": "https://localhost:8080/"
        },
        "id": "Mxg_C67rOJqb",
        "outputId": "a99273c6-2460-4408-d094-8526b751d5d1"
      },
      "source": [
        "np.dot(X,Y)"
      ],
      "execution_count": null,
      "outputs": [
        {
          "output_type": "execute_result",
          "data": {
            "text/plain": [
              "array([[3, 4],\n",
              "       [2, 2]])"
            ]
          },
          "metadata": {},
          "execution_count": 5
        }
      ]
    },
    {
      "cell_type": "code",
      "metadata": {
        "colab": {
          "base_uri": "https://localhost:8080/"
        },
        "id": "LCQBqnOeOMuu",
        "outputId": "399cad8f-d8e8-4e2f-dac1-a419adf9ec63"
      },
      "source": [
        "X.dot(Y)"
      ],
      "execution_count": null,
      "outputs": [
        {
          "output_type": "execute_result",
          "data": {
            "text/plain": [
              "array([[3, 4],\n",
              "       [2, 2]])"
            ]
          },
          "metadata": {},
          "execution_count": 22
        }
      ]
    },
    {
      "cell_type": "code",
      "metadata": {
        "colab": {
          "base_uri": "https://localhost:8080/"
        },
        "id": "ATZgOYhmOPjk",
        "outputId": "78c84ca6-6a8f-48a8-c359-681ec50b58e7"
      },
      "source": [
        "X @ Y"
      ],
      "execution_count": null,
      "outputs": [
        {
          "output_type": "execute_result",
          "data": {
            "text/plain": [
              "array([[3, 4],\n",
              "       [2, 2]])"
            ]
          },
          "metadata": {},
          "execution_count": 23
        }
      ]
    },
    {
      "cell_type": "code",
      "metadata": {
        "colab": {
          "base_uri": "https://localhost:8080/"
        },
        "id": "DRUEDDzvORhJ",
        "outputId": "9ed003de-f28b-4e26-c381-c6d66a01c39d"
      },
      "source": [
        "np.matmul(X,Y)"
      ],
      "execution_count": null,
      "outputs": [
        {
          "output_type": "execute_result",
          "data": {
            "text/plain": [
              "array([[3, 4],\n",
              "       [2, 2]])"
            ]
          },
          "metadata": {},
          "execution_count": 24
        }
      ]
    },
    {
      "cell_type": "markdown",
      "metadata": {
        "id": "2NuTO1f8Osb6"
      },
      "source": [
        "#### Example of 3x3 matrix dot product"
      ]
    },
    {
      "cell_type": "code",
      "metadata": {
        "id": "Z6mBEEHwOvHw"
      },
      "source": [
        "L = np.array([\n",
        "     [1, 2, 6],\n",
        "     [3, 0, -5],\n",
        "     [-2, 4, 3]            \n",
        "])\n",
        "N = np.array([\n",
        "    [7, 2, -1],\n",
        "    [3, -4, 3],\n",
        "    [6, 2, 0]\n",
        "])"
      ],
      "execution_count": null,
      "outputs": []
    },
    {
      "cell_type": "code",
      "metadata": {
        "colab": {
          "base_uri": "https://localhost:8080/"
        },
        "id": "Be8UQpVEPQXL",
        "outputId": "af5b28ca-607f-42e2-a268-17ccf94deadf"
      },
      "source": [
        "np.dot(L,N)"
      ],
      "execution_count": null,
      "outputs": [
        {
          "output_type": "execute_result",
          "data": {
            "text/plain": [
              "array([[ 49,   6,   5],\n",
              "       [ -9,  -4,  -3],\n",
              "       [ 16, -14,  14]])"
            ]
          },
          "metadata": {},
          "execution_count": 28
        }
      ]
    },
    {
      "cell_type": "code",
      "metadata": {
        "colab": {
          "base_uri": "https://localhost:8080/"
        },
        "id": "C3iavyXbPWWE",
        "outputId": "10345553-e036-4d06-b644-adeb1aac1731"
      },
      "source": [
        "L.dot(N)"
      ],
      "execution_count": null,
      "outputs": [
        {
          "output_type": "execute_result",
          "data": {
            "text/plain": [
              "array([[ 49,   6,   5],\n",
              "       [ -9,  -4,  -3],\n",
              "       [ 16, -14,  14]])"
            ]
          },
          "metadata": {},
          "execution_count": 29
        }
      ]
    },
    {
      "cell_type": "code",
      "metadata": {
        "colab": {
          "base_uri": "https://localhost:8080/"
        },
        "id": "R2HiSmAjPZA1",
        "outputId": "8798b317-6ec0-4418-8dca-e5dd2657f8b4"
      },
      "source": [
        "L @ N"
      ],
      "execution_count": null,
      "outputs": [
        {
          "output_type": "execute_result",
          "data": {
            "text/plain": [
              "array([[ 49,   6,   5],\n",
              "       [ -9,  -4,  -3],\n",
              "       [ 16, -14,  14]])"
            ]
          },
          "metadata": {},
          "execution_count": 30
        }
      ]
    },
    {
      "cell_type": "code",
      "metadata": {
        "colab": {
          "base_uri": "https://localhost:8080/"
        },
        "id": "IUBJ7ZaBPbSf",
        "outputId": "ed68c4ba-af4f-4a31-ac3c-d625f868da4e"
      },
      "source": [
        "np.matmul(L,N)"
      ],
      "execution_count": null,
      "outputs": [
        {
          "output_type": "execute_result",
          "data": {
            "text/plain": [
              "array([[ 49,   6,   5],\n",
              "       [ -9,  -4,  -3],\n",
              "       [ 16, -14,  14]])"
            ]
          },
          "metadata": {},
          "execution_count": 31
        }
      ]
    },
    {
      "cell_type": "markdown",
      "metadata": {
        "id": "OuJ0-QSjOUxU"
      },
      "source": [
        "In matrix dot products there are additional rules compared with vector dot products. Since vector dot products were just in one dimension there are less restrictions. Since now we are dealing with Rank 2 vectors we need to consider some rules:"
      ]
    },
    {
      "cell_type": "markdown",
      "metadata": {
        "id": "QchlwrD-P4Kb"
      },
      "source": [
        "### Rule 1: The inner dimensions of the two matrices in question must be the same. "
      ]
    },
    {
      "cell_type": "markdown",
      "metadata": {
        "id": "yHuso5X3P9k_"
      },
      "source": [
        "So given a matrix $A$ with a shape of $(a,b)$ where $a$ and $b$ are any integers. If we want to do a dot product between $A$ and another matrix $B$, then matrix $B$ should have a shape of $(b,c)$ where $b$ and $c$ are any integers. So for given the following matrices:\n",
        "\n",
        "$$A = \\begin{bmatrix}2&4\\\\5&-2\\\\0&1\\end{bmatrix}, B = \\begin{bmatrix}1&1\\\\3&3\\\\-1&-2\\end{bmatrix}, C = \\begin{bmatrix}0&1&1\\\\1&1&2\\end{bmatrix}$$\n",
        "\n",
        "So in this case $A$ has a shape of $(3,2)$, $B$ has a shape of $(3,2)$ and $C$ has a shape of $(2,3)$. So the only matrix pairs that is eligible to perform dot product is matrices $A \\cdot C$, or $B \\cdot C$.  "
      ]
    },
    {
      "cell_type": "code",
      "metadata": {
        "colab": {
          "base_uri": "https://localhost:8080/"
        },
        "id": "LGqlKPRoQb5M",
        "outputId": "9b9ff136-ef83-4b48-ecb7-38d0ca978634"
      },
      "source": [
        "A = np.array([\n",
        "    [2, 4],\n",
        "    [5, -2],\n",
        "    [0, 1]\n",
        "])\n",
        "B = np.array([\n",
        "    [1, 1],\n",
        "    [3, 3],\n",
        "    [-1, -2]\n",
        "])\n",
        "C = np.array([\n",
        "    [0,1,1],\n",
        "    [1,1,2],\n",
        "])\n",
        "print(A.shape)\n",
        "print(B.shape)\n",
        "print(C.shape)"
      ],
      "execution_count": null,
      "outputs": [
        {
          "output_type": "stream",
          "name": "stdout",
          "text": [
            "(3, 2)\n",
            "(3, 2)\n",
            "(2, 3)\n"
          ]
        }
      ]
    },
    {
      "cell_type": "code",
      "metadata": {
        "colab": {
          "base_uri": "https://localhost:8080/"
        },
        "id": "EiZM00R9Q_l7",
        "outputId": "b8cb62dc-b263-47d5-fbb1-2dfa9dca4348"
      },
      "source": [
        "B @ C"
      ],
      "execution_count": null,
      "outputs": [
        {
          "output_type": "execute_result",
          "data": {
            "text/plain": [
              "array([[ 1,  2,  3],\n",
              "       [ 3,  6,  9],\n",
              "       [-2, -3, -5]])"
            ]
          },
          "metadata": {},
          "execution_count": 33
        }
      ]
    },
    {
      "cell_type": "code",
      "metadata": {
        "colab": {
          "base_uri": "https://localhost:8080/"
        },
        "id": "qEOCYbenRA13",
        "outputId": "f3433d75-5906-400a-8d53-ccf6a6cc339f"
      },
      "source": [
        "A @ C"
      ],
      "execution_count": null,
      "outputs": [
        {
          "output_type": "execute_result",
          "data": {
            "text/plain": [
              "array([[ 4,  6, 10],\n",
              "       [-2,  3,  1],\n",
              "       [ 1,  1,  2]])"
            ]
          },
          "metadata": {},
          "execution_count": 34
        }
      ]
    },
    {
      "cell_type": "markdown",
      "metadata": {
        "id": "hhrlPIVBVo88"
      },
      "source": [
        "If you would notice the shape of the dot product changed and its shape is not the same as any of the matrices we used. The shape of a dot product is actually derived from the shapes of the matrices used. So recall matrix $A$ with a shape of $(a,b)$ and matrix $B$ with a shape of $(b,c)$, $A \\cdot B$ should have a shape $(a,c)$."
      ]
    },
    {
      "cell_type": "code",
      "metadata": {
        "colab": {
          "base_uri": "https://localhost:8080/"
        },
        "id": "ycY1SiKCR8DW",
        "outputId": "8d9911a4-6e87-4dc4-8ea3-4e4cc090ff6c"
      },
      "source": [
        "A @ B.T"
      ],
      "execution_count": null,
      "outputs": [
        {
          "output_type": "execute_result",
          "data": {
            "text/plain": [
              "array([[  6,  18, -10],\n",
              "       [  3,   9,  -1],\n",
              "       [  1,   3,  -2]])"
            ]
          },
          "metadata": {},
          "execution_count": 35
        }
      ]
    },
    {
      "cell_type": "code",
      "metadata": {
        "colab": {
          "base_uri": "https://localhost:8080/"
        },
        "id": "rLMPQRT9SABC",
        "outputId": "51031e4d-528a-49c8-8ba3-9cc11c0d1ab5"
      },
      "source": [
        "X = np.array([\n",
        "    [1,2,3,0]          \n",
        "])\n",
        "Y = np.array([\n",
        "    [1,0,4,-1]\n",
        "])\n",
        "print(X.shape)\n",
        "print(Y.shape)"
      ],
      "execution_count": null,
      "outputs": [
        {
          "output_type": "stream",
          "name": "stdout",
          "text": [
            "(1, 4)\n",
            "(1, 4)\n"
          ]
        }
      ]
    },
    {
      "cell_type": "code",
      "metadata": {
        "colab": {
          "base_uri": "https://localhost:8080/"
        },
        "id": "TugUbf7vSTH6",
        "outputId": "862e9bce-eb61-4d36-834e-ba4c90cf46c2"
      },
      "source": [
        "Y.T @ X"
      ],
      "execution_count": null,
      "outputs": [
        {
          "output_type": "execute_result",
          "data": {
            "text/plain": [
              "array([[ 1,  2,  3,  0],\n",
              "       [ 0,  0,  0,  0],\n",
              "       [ 4,  8, 12,  0],\n",
              "       [-1, -2, -3,  0]])"
            ]
          },
          "metadata": {},
          "execution_count": 37
        }
      ]
    },
    {
      "cell_type": "code",
      "metadata": {
        "colab": {
          "base_uri": "https://localhost:8080/"
        },
        "id": "lba-K2XOSXWg",
        "outputId": "7c6e3694-8e3d-4058-a24d-5b3377eb228c"
      },
      "source": [
        "X @ Y.T"
      ],
      "execution_count": null,
      "outputs": [
        {
          "output_type": "execute_result",
          "data": {
            "text/plain": [
              "array([[13]])"
            ]
          },
          "metadata": {},
          "execution_count": 38
        }
      ]
    },
    {
      "cell_type": "markdown",
      "metadata": {
        "id": "1G1octFhVt3-"
      },
      "source": [
        "And you can see that when you try to multiply A and B, it returns `ValueError` pertaining to matrix shape mismatch."
      ]
    },
    {
      "cell_type": "markdown",
      "metadata": {
        "id": "3dQKCoYGS397"
      },
      "source": [
        "### Rule 2: Dot Product has special properties\n",
        "\n",
        "Dot products are prevalent in matrix algebra, this implies that it has several unique properties and it should be considered when formulation solutions:\n",
        " 1. $A \\cdot B \\neq B \\cdot A$\n",
        " 2. $A \\cdot (B \\cdot C) = (A \\cdot B) \\cdot C$\n",
        " 3. $A\\cdot(B+C) = A\\cdot B + A\\cdot C$\n",
        " 4. $(B+C)\\cdot A = B\\cdot A + C\\cdot A$\n",
        " 5. $A\\cdot I = A$\n",
        " 6. $A\\cdot \\emptyset = \\emptyset$ "
      ]
    },
    {
      "cell_type": "code",
      "metadata": {
        "id": "8knqpJmXTE6r"
      },
      "source": [
        "A = np.array([\n",
        "     [1, 2, 6],\n",
        "     [3, 0, -5],\n",
        "     [-2, 4, 3]            \n",
        "])\n",
        "B = np.array([\n",
        "    [7, 2, -1],\n",
        "    [3, -4, 3],\n",
        "    [6, 2, 0]\n",
        "])\n",
        "C = np.array([\n",
        "    [-3, 2, 1],\n",
        "    [5, 7, 5],\n",
        "    [-4, -5, -1]        \n",
        "])"
      ],
      "execution_count": null,
      "outputs": []
    },
    {
      "cell_type": "code",
      "metadata": {
        "id": "7zPMcp1dTy1Z",
        "colab": {
          "base_uri": "https://localhost:8080/"
        },
        "outputId": "444e9669-3cb9-4187-ac2d-63cbfaa04d8f"
      },
      "source": [
        "np.eye(3)"
      ],
      "execution_count": null,
      "outputs": [
        {
          "output_type": "execute_result",
          "data": {
            "text/plain": [
              "array([[1., 0., 0.],\n",
              "       [0., 1., 0.],\n",
              "       [0., 0., 1.]])"
            ]
          },
          "metadata": {},
          "execution_count": 2
        }
      ]
    },
    {
      "cell_type": "code",
      "metadata": {
        "colab": {
          "base_uri": "https://localhost:8080/"
        },
        "id": "yYNTVzHdTrXE",
        "outputId": "310de12c-aea6-49c4-901b-261e6fd681b6"
      },
      "source": [
        "D = A @ (B @ C)\n",
        "D"
      ],
      "execution_count": null,
      "outputs": [
        {
          "output_type": "execute_result",
          "data": {
            "text/plain": [
              "array([[-137,  115,   74],\n",
              "       [  19,  -31,  -26],\n",
              "       [-174, -136,  -68]])"
            ]
          },
          "metadata": {},
          "execution_count": 42
        }
      ]
    },
    {
      "cell_type": "code",
      "metadata": {
        "colab": {
          "base_uri": "https://localhost:8080/"
        },
        "id": "5mghjqXdTu4C",
        "outputId": "b4ac2ca9-c696-46bb-bcf3-a0edde32782a"
      },
      "source": [
        "E = (A @ B) @ C\n",
        "E"
      ],
      "execution_count": null,
      "outputs": [
        {
          "output_type": "execute_result",
          "data": {
            "text/plain": [
              "array([[ -64, -554, -180],\n",
              "       [-128, -422, -204],\n",
              "       [  34,  150,   42]])"
            ]
          },
          "metadata": {},
          "execution_count": 44
        }
      ]
    },
    {
      "cell_type": "code",
      "metadata": {
        "colab": {
          "base_uri": "https://localhost:8080/"
        },
        "id": "UumsO_mOUE47",
        "outputId": "67abe655-1fb4-4e15-d028-24ad183834fd"
      },
      "source": [
        "np.array_equal(D,E)"
      ],
      "execution_count": null,
      "outputs": [
        {
          "output_type": "execute_result",
          "data": {
            "text/plain": [
              "True"
            ]
          },
          "metadata": {},
          "execution_count": 46
        }
      ]
    },
    {
      "cell_type": "code",
      "metadata": {
        "colab": {
          "base_uri": "https://localhost:8080/"
        },
        "id": "27eQ2PbLfJkb",
        "outputId": "25e80e0d-5037-4400-9258-777cfd554d72"
      },
      "source": [
        "z_mat = np.zeros(A.shape)\n",
        "z_mat"
      ],
      "execution_count": null,
      "outputs": [
        {
          "output_type": "execute_result",
          "data": {
            "text/plain": [
              "array([[0., 0., 0.],\n",
              "       [0., 0., 0.],\n",
              "       [0., 0., 0.]])"
            ]
          },
          "metadata": {},
          "execution_count": 47
        }
      ]
    },
    {
      "cell_type": "code",
      "metadata": {
        "colab": {
          "base_uri": "https://localhost:8080/"
        },
        "id": "AnYB01lRfLQr",
        "outputId": "78310e36-d994-495a-8f4e-8e00edcd6f93"
      },
      "source": [
        "a_dot_z = A.dot(np.zeros(A.shape))\n",
        "a_dot_z"
      ],
      "execution_count": null,
      "outputs": [
        {
          "output_type": "execute_result",
          "data": {
            "text/plain": [
              "array([[0., 0., 0.],\n",
              "       [0., 0., 0.],\n",
              "       [0., 0., 0.]])"
            ]
          },
          "metadata": {},
          "execution_count": 48
        }
      ]
    },
    {
      "cell_type": "code",
      "metadata": {
        "colab": {
          "base_uri": "https://localhost:8080/"
        },
        "id": "zS0FQ9PAfM7o",
        "outputId": "71090405-1839-4690-8024-b509a7315968"
      },
      "source": [
        "np.array_equal(a_dot_z,z_mat)"
      ],
      "execution_count": null,
      "outputs": [
        {
          "output_type": "execute_result",
          "data": {
            "text/plain": [
              "True"
            ]
          },
          "metadata": {},
          "execution_count": 49
        }
      ]
    },
    {
      "cell_type": "code",
      "metadata": {
        "colab": {
          "base_uri": "https://localhost:8080/"
        },
        "id": "00mKZfudfPJH",
        "outputId": "b4c7d4b6-03a4-4bd3-a3c0-7c86f0809fee"
      },
      "source": [
        "null_mat = np.empty(A.shape, dtype=float)\n",
        "null = np.array(null_mat,dtype=float)\n",
        "print(null)\n",
        "np.allclose(a_dot_z,null)"
      ],
      "execution_count": null,
      "outputs": [
        {
          "output_type": "stream",
          "name": "stdout",
          "text": [
            "[[0. 0. 0.]\n",
            " [0. 0. 0.]\n",
            " [0. 0. 0.]]\n"
          ]
        },
        {
          "output_type": "execute_result",
          "data": {
            "text/plain": [
              "True"
            ]
          },
          "metadata": {},
          "execution_count": 50
        }
      ]
    },
    {
      "cell_type": "markdown",
      "metadata": {
        "id": "9b2G9aoWZAbh"
      },
      "source": [
        "## Determinant"
      ]
    },
    {
      "cell_type": "markdown",
      "metadata": {
        "id": "N1iaQvhgZFeo"
      },
      "source": [
        "A determinant is a scalar value derived from a square matrix. The determinant is a fundamental and important value used in matrix algebra. Although it will not be evident in this laboratory on how it can be used practically, but it will be reatly used in future lessons.\n",
        "\n",
        "The determinant of some matrix $A$ is denoted as $det(A)$ or $|A|$. So let's say $A$ is represented as:\n",
        "$$A = \\begin{bmatrix}a_{(0,0)}&a_{(0,1)}\\\\a_{(1,0)}&a_{(1,1)}\\end{bmatrix}$$\n",
        "We can compute for the determinant as:\n",
        "$$|A| = a_{(0,0)}*a_{(1,1)} - a_{(1,0)}*a_{(0,1)}$$\n",
        "So if we have $A$ as:\n",
        "$$A = \\begin{bmatrix}1&4\\\\0&3\\end{bmatrix}, |A| = 3$$\n",
        "\n",
        "But you might wonder how about square matrices beyond the shape $(2,2)$? We can approach this problem by using several methods such as co-factor expansion and the minors method. This can be taught in the lecture of the laboratory but we can achieve the strenuous computation of high-dimensional matrices programmatically using Python. We can achieve this by using `np.linalg.det()`."
      ]
    },
    {
      "cell_type": "code",
      "metadata": {
        "colab": {
          "base_uri": "https://localhost:8080/"
        },
        "id": "GRdZA9xhZLh5",
        "outputId": "8aecc401-8603-4ec5-ea6c-7188875e1c2c"
      },
      "source": [
        "A = np.array([\n",
        "    [1,4],\n",
        "    [0,3]\n",
        "])\n",
        "np.linalg.det(A)"
      ],
      "execution_count": null,
      "outputs": [
        {
          "output_type": "execute_result",
          "data": {
            "text/plain": [
              "3.0000000000000004"
            ]
          },
          "metadata": {},
          "execution_count": 47
        }
      ]
    },
    {
      "cell_type": "code",
      "metadata": {
        "colab": {
          "base_uri": "https://localhost:8080/"
        },
        "id": "XK3S8zinZnCs",
        "outputId": "95f0491b-a0c2-4757-f3c9-9cdec9e6f521"
      },
      "source": [
        "B = np.array([\n",
        "    [1, 5, 2],\n",
        "    [3, -1, -1],\n",
        "    [0 , -2, 1]\n",
        "])\n",
        "np.linalg.det(B)"
      ],
      "execution_count": null,
      "outputs": [
        {
          "output_type": "execute_result",
          "data": {
            "text/plain": [
              "-30.000000000000014"
            ]
          },
          "metadata": {},
          "execution_count": 50
        }
      ]
    },
    {
      "cell_type": "code",
      "metadata": {
        "colab": {
          "base_uri": "https://localhost:8080/"
        },
        "id": "3iTmOy3fZYXu",
        "outputId": "c98929f9-87e9-44c2-9423-d79c86773aa2"
      },
      "source": [
        "## Now other mathematics classes would require you to solve this by hand,\n",
        "## and that is great for practicing your \n",
        "B = np.array([\n",
        "    [1,3,5,6],\n",
        "    [0,3,1,3],\n",
        "    [3,1,8,2],\n",
        "    [5,2,6,8]\n",
        "])\n",
        "np.linalg.det(B)"
      ],
      "execution_count": null,
      "outputs": [
        {
          "output_type": "execute_result",
          "data": {
            "text/plain": [
              "-235.0000000000002"
            ]
          },
          "metadata": {},
          "execution_count": 52
        }
      ]
    },
    {
      "cell_type": "markdown",
      "metadata": {
        "id": "PTygAop_N_Cr"
      },
      "source": [
        "## Inverse"
      ]
    },
    {
      "cell_type": "markdown",
      "metadata": {
        "id": "kd7cLpQjaXzf"
      },
      "source": [
        "The inverse of a matrix is another fundamental operation in matrix algebra. Determining the inverse of a matrix let us determine if its solvability and its characteristic as a system of linear equation — we'll expand on this in the nect module. Another use of the inverse matrix is solving the problem of divisibility between matrices. Although element-wise division exists but dividing the entire concept of matrices does not exists. Inverse matrices provides a related operation that could have the same concept of \"dividing\" matrices.\n",
        "\n",
        "Now to determine the inverse of a matrix we need to perform several steps. So let's say we have a matrix $M$:\n",
        "$$M = \\begin{bmatrix}1&7\\\\-3&5\\end{bmatrix}$$\n",
        "First, we need to get the determinant of $M$.\n",
        "$$|M| = (1)(5)-(-3)(7) = 26$$\n",
        "Next, we need to reform the matrix into the inverse form:\n",
        "$$M^{-1} = \\frac{1}{|M|} \\begin{bmatrix} m_{(1,1)} & -m_{(0,1)} \\\\ -m_{(1,0)} & m_{(0,0)}\\end{bmatrix}$$\n",
        "So that will be:\n",
        "$$M^{-1} = \\frac{1}{26} \\begin{bmatrix} 5 & -7 \\\\ 3 & 1\\end{bmatrix} = \\begin{bmatrix} \\frac{5}{26} & \\frac{-7}{26} \\\\ \\frac{3}{26} & \\frac{1}{26}\\end{bmatrix}$$\n",
        "For higher-dimension matrices you might need to use co-factors, minors, adjugates, and other reduction techinques. To solve this programmatially we can use `np.linalg.inv()`."
      ]
    },
    {
      "cell_type": "code",
      "metadata": {
        "colab": {
          "base_uri": "https://localhost:8080/"
        },
        "id": "B0Io8BP6aKtV",
        "outputId": "edea24e0-4548-49d4-bc0b-b330074d4364"
      },
      "source": [
        "M = np.array([\n",
        "    [1,7],\n",
        "    [-3, 5]\n",
        "])\n",
        "\n",
        "np.array(M @ np.linalg.inv(M), dtype=int)"
      ],
      "execution_count": null,
      "outputs": [
        {
          "output_type": "execute_result",
          "data": {
            "text/plain": [
              "array([[1, 0],\n",
              "       [0, 1]])"
            ]
          },
          "metadata": {},
          "execution_count": 53
        }
      ]
    },
    {
      "cell_type": "code",
      "metadata": {
        "colab": {
          "base_uri": "https://localhost:8080/"
        },
        "id": "Zy2QWFGCbQsp",
        "outputId": "6b4025a5-9025-4ef4-adbc-07a9fdd1ca29"
      },
      "source": [
        "K = np.array([\n",
        "    [1,3,5],\n",
        "    [6,2,-1],\n",
        "    [7,-4,-2]\n",
        "])\n",
        "O = np.linalg.inv(K)\n",
        "O"
      ],
      "execution_count": null,
      "outputs": [
        {
          "output_type": "execute_result",
          "data": {
            "text/plain": [
              "array([[ 0.04371585,  0.07650273,  0.07103825],\n",
              "       [-0.0273224 ,  0.20218579, -0.16939891],\n",
              "       [ 0.20765027, -0.13661202,  0.08743169]])"
            ]
          },
          "metadata": {},
          "execution_count": 55
        }
      ]
    },
    {
      "cell_type": "code",
      "metadata": {
        "colab": {
          "base_uri": "https://localhost:8080/"
        },
        "id": "yRXndnS1brnG",
        "outputId": "716843a2-bd4e-4581-a843-55300f590f91"
      },
      "source": [
        "np.array(K @ O, dtype=int)"
      ],
      "execution_count": null,
      "outputs": [
        {
          "output_type": "execute_result",
          "data": {
            "text/plain": [
              "array([[1, 0, 0],\n",
              "       [0, 0, 0],\n",
              "       [0, 0, 1]])"
            ]
          },
          "metadata": {},
          "execution_count": 57
        }
      ]
    },
    {
      "cell_type": "code",
      "metadata": {
        "colab": {
          "base_uri": "https://localhost:8080/"
        },
        "id": "Ppfxz23-WnoJ",
        "outputId": "f57edb5a-0564-4e03-dab4-267a60172012"
      },
      "source": [
        "## And now let's test your skills in solving a matrix with high dimensions:\n",
        "N = np.array([\n",
        "    [18,5,23,1,0,33,5],\n",
        "    [0,45,0,11,2,4,2],\n",
        "    [5,9,20,0,0,0,3],\n",
        "    [1,6,4,4,8,43,1],\n",
        "    [8,6,8,7,1,6,1],\n",
        "    [-5,15,2,0,0,6,-30],\n",
        "    [-2,-5,1,2,1,20,12],\n",
        "])\n",
        "N_inv = np.linalg.inv(N)\n",
        "np.array(N @ N_inv,dtype=int)"
      ],
      "execution_count": null,
      "outputs": [
        {
          "output_type": "execute_result",
          "data": {
            "text/plain": [
              "array([[0, 0, 0, 0, 0, 0, 0],\n",
              "       [0, 0, 0, 0, 0, 0, 0],\n",
              "       [0, 0, 1, 0, 0, 0, 0],\n",
              "       [0, 0, 0, 1, 0, 0, 0],\n",
              "       [0, 0, 0, 0, 0, 0, 0],\n",
              "       [0, 0, 0, 0, 0, 0, 0],\n",
              "       [0, 0, 0, 0, 0, 0, 1]])"
            ]
          },
          "metadata": {},
          "execution_count": 3
        }
      ]
    },
    {
      "cell_type": "markdown",
      "metadata": {
        "id": "zvtQXCD7WqtF"
      },
      "source": [
        "To validate whether if the matric that you have solved is really the inverse, we follow this dot product property for a matrix $M$:\n",
        "$$M\\cdot M^{-1} = I$$"
      ]
    },
    {
      "cell_type": "code",
      "metadata": {
        "colab": {
          "base_uri": "https://localhost:8080/"
        },
        "id": "HZFJtyEmWqeX",
        "outputId": "7a232f76-d052-450f-cace-12c33bce4526"
      },
      "source": [
        "squad = np.array([\n",
        "    [1.0, 1.0, 0.5],\n",
        "    [0.7, 0.7, 0.9],\n",
        "    [0.3, 0.3, 1.0]\n",
        "])\n",
        "weights = np.array([\n",
        "    [0.2, 0.2, 0.6]\n",
        "])\n",
        "p_grade = squad @ weights.T\n",
        "p_grade\n"
      ],
      "execution_count": null,
      "outputs": [
        {
          "output_type": "execute_result",
          "data": {
            "text/plain": [
              "array([[0.7 ],\n",
              "       [0.82],\n",
              "       [0.72]])"
            ]
          },
          "metadata": {},
          "execution_count": 4
        }
      ]
    },
    {
      "cell_type": "markdown",
      "metadata": {
        "id": "p_O8ADlRWw7v"
      },
      "source": [
        "## Activity"
      ]
    },
    {
      "cell_type": "markdown",
      "metadata": {
        "id": "ItDnFNBzWzxV"
      },
      "source": [
        "### Task 1"
      ]
    },
    {
      "cell_type": "markdown",
      "metadata": {
        "id": "g3XTARjsW1V0"
      },
      "source": [
        "Prove and implement the remaining 6 matrix multiplication properties. You may create your own matrices in which their shapes should not be lower than $(3,3)$.\n",
        "In your methodology, create individual flowcharts for each property and discuss the property you would then present your proofs or validity of your implementation in the results section by comparing your result to present functions from NumPy."
      ]
    },
    {
      "cell_type": "code",
      "metadata": {
        "id": "kNQ1X31bXGYw"
      },
      "source": [
        "A = np.array([\n",
        "    [1,2,6],\n",
        "    [-3,7,3],\n",
        "    [5,-4,-2]              \n",
        "])\n",
        "B = np.array([\n",
        "    [-3,4,1],\n",
        "    [2,8,1],\n",
        "    [-5,6,4]\n",
        "])\n",
        "C = np.array([\n",
        "    [1,2,3],\n",
        "    [-4,-5,-6],\n",
        "    [7,-8,9]\n",
        "])"
      ],
      "execution_count": null,
      "outputs": []
    },
    {
      "cell_type": "markdown",
      "metadata": {
        "id": "2RnMzjzuW90R"
      },
      "source": [
        "#### 1. $A \\cdot B \\neq B \\cdot A$\n"
      ]
    },
    {
      "cell_type": "code",
      "metadata": {
        "colab": {
          "base_uri": "https://localhost:8080/"
        },
        "id": "1IcCQBeBbS9j",
        "outputId": "07d51d00-10e9-494d-9538-865072f8f697"
      },
      "source": [
        "A @ B"
      ],
      "execution_count": null,
      "outputs": [
        {
          "output_type": "execute_result",
          "data": {
            "text/plain": [
              "array([[-29,  56,  27],\n",
              "       [  8,  62,  16],\n",
              "       [-13, -24,  -7]])"
            ]
          },
          "metadata": {},
          "execution_count": 22
        }
      ]
    },
    {
      "cell_type": "code",
      "metadata": {
        "colab": {
          "base_uri": "https://localhost:8080/"
        },
        "id": "h_klQfP0bXQP",
        "outputId": "4a053293-ef43-42dd-8d93-b15fa358b2fd"
      },
      "source": [
        "B @ A"
      ],
      "execution_count": null,
      "outputs": [
        {
          "output_type": "execute_result",
          "data": {
            "text/plain": [
              "array([[-10,  18,  -8],\n",
              "       [-17,  56,  34],\n",
              "       [ -3,  16, -20]])"
            ]
          },
          "metadata": {},
          "execution_count": 23
        }
      ]
    },
    {
      "cell_type": "code",
      "metadata": {
        "colab": {
          "base_uri": "https://localhost:8080/"
        },
        "id": "RFVFWonRYmRG",
        "outputId": "4dbefdde-0989-4f0a-a9c4-c15cfc8ee626"
      },
      "source": [
        "np.array_equal(A@B, B@A)"
      ],
      "execution_count": null,
      "outputs": [
        {
          "output_type": "execute_result",
          "data": {
            "text/plain": [
              "False"
            ]
          },
          "metadata": {},
          "execution_count": 6
        }
      ]
    },
    {
      "cell_type": "markdown",
      "metadata": {
        "id": "TzBavHt0uhTk"
      },
      "source": [
        "**FLOWCHART**\n",
        "\n",
        "![image.png](data:image/png;base64,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)"
      ]
    },
    {
      "cell_type": "markdown",
      "metadata": {
        "id": "QbcL0c_RYsQD"
      },
      "source": [
        "####  2. $A \\cdot (B \\cdot C) = (A \\cdot B) \\cdot C$"
      ]
    },
    {
      "cell_type": "code",
      "metadata": {
        "colab": {
          "base_uri": "https://localhost:8080/"
        },
        "id": "kGMCxU0mYzhg",
        "outputId": "2accd96d-3099-4950-9ee6-6505d0455ebf"
      },
      "source": [
        "H = A @ (B @ C)\n",
        "H"
      ],
      "execution_count": null,
      "outputs": [
        {
          "output_type": "execute_result",
          "data": {
            "text/plain": [
              "array([[ -64, -554, -180],\n",
              "       [-128, -422, -204],\n",
              "       [  34,  150,   42]])"
            ]
          },
          "metadata": {},
          "execution_count": 8
        }
      ]
    },
    {
      "cell_type": "code",
      "metadata": {
        "colab": {
          "base_uri": "https://localhost:8080/"
        },
        "id": "2F1Lgua0Y6K7",
        "outputId": "3b2add3b-6d39-4d68-8861-d3761bed68f6"
      },
      "source": [
        "I = (A @ B) @ C\n",
        "I"
      ],
      "execution_count": null,
      "outputs": [
        {
          "output_type": "execute_result",
          "data": {
            "text/plain": [
              "array([[ -64, -554, -180],\n",
              "       [-128, -422, -204],\n",
              "       [  34,  150,   42]])"
            ]
          },
          "metadata": {},
          "execution_count": 11
        }
      ]
    },
    {
      "cell_type": "code",
      "metadata": {
        "colab": {
          "base_uri": "https://localhost:8080/"
        },
        "id": "tGIJRPExZGdk",
        "outputId": "d753f868-e5fe-45ec-cb30-0b2bc1662d02"
      },
      "source": [
        "np.array_equal(H, I)"
      ],
      "execution_count": null,
      "outputs": [
        {
          "output_type": "execute_result",
          "data": {
            "text/plain": [
              "True"
            ]
          },
          "metadata": {},
          "execution_count": 12
        }
      ]
    },
    {
      "cell_type": "markdown",
      "metadata": {
        "id": "Ejb4KsFswX7p"
      },
      "source": [
        "**FLOWCHART**\n",
        "\n",
        "![image.png](data:image/png;base64,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)"
      ]
    },
    {
      "cell_type": "markdown",
      "metadata": {
        "id": "0y_H9n00ZPR4"
      },
      "source": [
        "####  3. $A\\cdot(B+C) = A\\cdot B + A\\cdot C$"
      ]
    },
    {
      "cell_type": "code",
      "metadata": {
        "colab": {
          "base_uri": "https://localhost:8080/"
        },
        "id": "e3FOkw8cZQqz",
        "outputId": "faee2487-ba74-4f63-b8f9-94d8cf31a8de"
      },
      "source": [
        "J = A @ (B + C)\n",
        "J"
      ],
      "execution_count": null,
      "outputs": [
        {
          "output_type": "execute_result",
          "data": {
            "text/plain": [
              "array([[ 6,  0, 72],\n",
              "       [-2, -3, -8],\n",
              "       [-6, 22, 14]])"
            ]
          },
          "metadata": {},
          "execution_count": 14
        }
      ]
    },
    {
      "cell_type": "code",
      "metadata": {
        "colab": {
          "base_uri": "https://localhost:8080/"
        },
        "id": "alFs4va8ZO8A",
        "outputId": "020e84d7-6979-4468-c910-abee455a852e"
      },
      "source": [
        "K = A @ B + A @ C\n",
        "K"
      ],
      "execution_count": null,
      "outputs": [
        {
          "output_type": "execute_result",
          "data": {
            "text/plain": [
              "array([[ 6,  0, 72],\n",
              "       [-2, -3, -8],\n",
              "       [-6, 22, 14]])"
            ]
          },
          "metadata": {},
          "execution_count": 15
        }
      ]
    },
    {
      "cell_type": "code",
      "metadata": {
        "colab": {
          "base_uri": "https://localhost:8080/"
        },
        "id": "c6QLtA7mZhue",
        "outputId": "a053a6f2-800c-476d-d5ff-278828e0cab6"
      },
      "source": [
        "np.array_equal(J, K)"
      ],
      "execution_count": null,
      "outputs": [
        {
          "output_type": "execute_result",
          "data": {
            "text/plain": [
              "True"
            ]
          },
          "metadata": {},
          "execution_count": 16
        }
      ]
    },
    {
      "cell_type": "markdown",
      "metadata": {
        "id": "k_PUgsyExWXO"
      },
      "source": [
        "**FLOWCHART**\n",
        "\n",
        "![image.png](data:image/png;base64,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)"
      ]
    },
    {
      "cell_type": "markdown",
      "metadata": {
        "id": "obrWQ27xZnei"
      },
      "source": [
        "####  4. $(B+C)\\cdot A = B\\cdot A + C\\cdot A$"
      ]
    },
    {
      "cell_type": "code",
      "metadata": {
        "colab": {
          "base_uri": "https://localhost:8080/"
        },
        "id": "EyViRwiDZmlZ",
        "outputId": "2e454ee4-70a2-4546-bb7f-d7f56dd33345"
      },
      "source": [
        "LA = (B + C) @ A\n",
        "LA"
      ],
      "execution_count": null,
      "outputs": [
        {
          "output_type": "execute_result",
          "data": {
            "text/plain": [
              "array([[  0,  22,  -2],\n",
              "       [-36,  37,   7],\n",
              "       [ 73, -62, -20]])"
            ]
          },
          "metadata": {},
          "execution_count": 18
        }
      ]
    },
    {
      "cell_type": "code",
      "metadata": {
        "colab": {
          "base_uri": "https://localhost:8080/"
        },
        "id": "qlE8-awgW4wV",
        "outputId": "cf02071e-7a90-43d1-9873-7d562f541fc5"
      },
      "source": [
        "DJ = B @ A + C @ A\n",
        "DJ"
      ],
      "execution_count": null,
      "outputs": [
        {
          "output_type": "execute_result",
          "data": {
            "text/plain": [
              "array([[  0,  22,  -2],\n",
              "       [-36,  37,   7],\n",
              "       [ 73, -62, -20]])"
            ]
          },
          "metadata": {},
          "execution_count": 19
        }
      ]
    },
    {
      "cell_type": "code",
      "metadata": {
        "colab": {
          "base_uri": "https://localhost:8080/"
        },
        "id": "Sroou-3eZ5wa",
        "outputId": "dee86bf9-05cf-4cc9-893f-74d51e879168"
      },
      "source": [
        "np.array_equal(LA,DJ)"
      ],
      "execution_count": null,
      "outputs": [
        {
          "output_type": "execute_result",
          "data": {
            "text/plain": [
              "True"
            ]
          },
          "metadata": {},
          "execution_count": 21
        }
      ]
    },
    {
      "cell_type": "markdown",
      "metadata": {
        "id": "LPGKEFd1x0lf"
      },
      "source": [
        "**FLOWCHART**\n",
        "\n",
        "![image.png](data:image/png;base64,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)"
      ]
    },
    {
      "cell_type": "markdown",
      "metadata": {
        "id": "2WGfHGE_aAqU"
      },
      "source": [
        "#### 5. $A\\cdot I = A$"
      ]
    },
    {
      "cell_type": "code",
      "metadata": {
        "colab": {
          "base_uri": "https://localhost:8080/"
        },
        "id": "GGvtk0L7aEyk",
        "outputId": "d679707f-2846-4188-bfa9-5f6c69a0820f"
      },
      "source": [
        "np.eye(3)"
      ],
      "execution_count": null,
      "outputs": [
        {
          "output_type": "execute_result",
          "data": {
            "text/plain": [
              "array([[1., 0., 0.],\n",
              "       [0., 1., 0.],\n",
              "       [0., 0., 1.]])"
            ]
          },
          "metadata": {},
          "execution_count": 28
        }
      ]
    },
    {
      "cell_type": "code",
      "metadata": {
        "colab": {
          "base_uri": "https://localhost:8080/"
        },
        "id": "ajkUfgQ2dw55",
        "outputId": "e4781656-bb6c-481b-8923-6321dab6d936"
      },
      "source": [
        "L = A.dot(np.eye(3))\n",
        "L"
      ],
      "execution_count": null,
      "outputs": [
        {
          "output_type": "execute_result",
          "data": {
            "text/plain": [
              "array([[ 1.,  2.,  6.],\n",
              "       [-3.,  7.,  3.],\n",
              "       [ 5., -4., -2.]])"
            ]
          },
          "metadata": {},
          "execution_count": 31
        }
      ]
    },
    {
      "cell_type": "code",
      "metadata": {
        "colab": {
          "base_uri": "https://localhost:8080/"
        },
        "id": "ike8ud2Zd1sa",
        "outputId": "0b35c2f5-e09c-4910-979b-ce891f1f2ce7"
      },
      "source": [
        "np.array_equal(A,L)"
      ],
      "execution_count": null,
      "outputs": [
        {
          "output_type": "execute_result",
          "data": {
            "text/plain": [
              "True"
            ]
          },
          "metadata": {},
          "execution_count": 32
        }
      ]
    },
    {
      "cell_type": "markdown",
      "metadata": {
        "id": "P6bm9V6azQe2"
      },
      "source": [
        "**FLOWCHART**\n",
        "\n",
        "![image.png](data:image/png;base64,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)"
      ]
    },
    {
      "cell_type": "markdown",
      "metadata": {
        "id": "QBj-2Kxbd9jO"
      },
      "source": [
        "#### 6. $A\\cdot \\emptyset = \\emptyset$ "
      ]
    },
    {
      "cell_type": "code",
      "metadata": {
        "colab": {
          "base_uri": "https://localhost:8080/"
        },
        "id": "_M9AD2MleCUJ",
        "outputId": "005f0e88-1bb5-4188-b01e-2fa5598c8611"
      },
      "source": [
        "np.zeros(A.shape)"
      ],
      "execution_count": null,
      "outputs": [
        {
          "output_type": "execute_result",
          "data": {
            "text/plain": [
              "array([[0., 0., 0.],\n",
              "       [0., 0., 0.],\n",
              "       [0., 0., 0.]])"
            ]
          },
          "metadata": {},
          "execution_count": 34
        }
      ]
    },
    {
      "cell_type": "code",
      "metadata": {
        "colab": {
          "base_uri": "https://localhost:8080/"
        },
        "id": "1J_vwyx3eWCZ",
        "outputId": "f60ea2a8-21eb-4234-ccc1-f8071988b780"
      },
      "source": [
        "A_dotnull = A @ np.zeros(A.shape)\n",
        "A_dotnull"
      ],
      "execution_count": null,
      "outputs": [
        {
          "output_type": "execute_result",
          "data": {
            "text/plain": [
              "array([[0., 0., 0.],\n",
              "       [0., 0., 0.],\n",
              "       [0., 0., 0.]])"
            ]
          },
          "metadata": {},
          "execution_count": 41
        }
      ]
    },
    {
      "cell_type": "code",
      "metadata": {
        "colab": {
          "base_uri": "https://localhost:8080/"
        },
        "id": "hB3umMODeYc5",
        "outputId": "7fadc8b5-75c9-473a-bb1c-1804fb536eb7"
      },
      "source": [
        "np.array_equal(A_dotnull,np.zeros(A.shape))"
      ],
      "execution_count": null,
      "outputs": [
        {
          "output_type": "execute_result",
          "data": {
            "text/plain": [
              "True"
            ]
          },
          "metadata": {},
          "execution_count": 42
        }
      ]
    },
    {
      "cell_type": "markdown",
      "metadata": {
        "id": "Zgi6h6pG0FO7"
      },
      "source": [
        "**FLOWCHART**\n",
        "\n",
        "![image.png](data:image/png;base64,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)"
      ]
    }
  ]
}