{
  "nbformat": 4,
  "nbformat_minor": 0,
  "metadata": {
    "colab": {
      "name": "Assignment4_DarJuan.ipynb",
      "provenance": [],
      "collapsed_sections": [
        "N5M-Us0c0L2u",
        "9P6uMH1U1hjt",
        "6tbF2a1E1jqx",
        "Ng3i64wS13GI",
        "GSxa72ET2Tke",
        "T1kqL1U87v85",
        "R-zXUgXj9K2q",
        "uZQ_0fVt9mcl",
        "rpDaKMml90A9",
        "hH1pYWN4-rWq",
        "ROCD9JjI_FD_",
        "ar5prlf3JdeH",
        "rvOk0gpJLNjI",
        "ssq2TkAfMAe-",
        "L6RQog5WMJpM",
        "SMRufHXyMQOi",
        "GPiUP-e2Me3X",
        "dY-6TBrdMwDo",
        "2SAvYdUONYVa"
      ],
      "authorship_tag": "ABX9TyPdGIrtSDSphzSBjX+kQj1h",
      "include_colab_link": true
    },
    "kernelspec": {
      "name": "python3",
      "display_name": "Python 3"
    },
    "language_info": {
      "name": "python"
    }
  },
  "cells": [
    {
      "cell_type": "markdown",
      "metadata": {
        "id": "view-in-github",
        "colab_type": "text"
      },
      "source": [
        "<a href=\"https://colab.research.google.com/github/darjuangeloys/LinearAlgebra2021/blob/main/Assignment4_DarJuan.ipynb\" target=\"_parent\"><img src=\"https://colab.research.google.com/assets/colab-badge.svg\" alt=\"Open In Colab\"/></a>"
      ]
    },
    {
      "cell_type": "markdown",
      "metadata": {
        "id": "sh8aCu3BzHiO"
      },
      "source": [
        "# **Linear Algebra for ECE**\n",
        "## *Laboratory 4 : Matrices*"
      ]
    },
    {
      "cell_type": "markdown",
      "metadata": {
        "id": "gGAPO8izz8e8"
      },
      "source": [
        "Now that you have a fundamental knowledge about Python, we'll try to look into greater dimensions."
      ]
    },
    {
      "cell_type": "markdown",
      "metadata": {
        "id": "N5M-Us0c0L2u"
      },
      "source": [
        "### **Objectives**\n",
        "At the end of this activity you will be able to:\n",
        "1. Be familiar with matrices and their relation to linear equations.\n",
        "2. Perform basic matrix operations.\n",
        "3. Program and translate matrix equations and operations using Python."
      ]
    },
    {
      "cell_type": "markdown",
      "metadata": {
        "id": "RU_wp5Vo0PQA"
      },
      "source": [
        "# **Discussion**"
      ]
    },
    {
      "cell_type": "code",
      "metadata": {
        "id": "2sCgubga0SVz"
      },
      "source": [
        "import numpy as np\n",
        "import matplotlib.pyplot as plt\n",
        "import scipy.linalg as la\n",
        "%matplotlib inline"
      ],
      "execution_count": null,
      "outputs": []
    },
    {
      "cell_type": "markdown",
      "metadata": {
        "id": "P_gNqdMU0YMe"
      },
      "source": [
        "## **Matrices**"
      ]
    },
    {
      "cell_type": "markdown",
      "metadata": {
        "id": "wQoEdM2x0Z2X"
      },
      "source": [
        "The notation and use of matrices is probably one of the fundamentals of modern computing. Matrices are also handy representations of complex equations or multiple inter-related equations from 2-dimensional equations to even hundreds and thousands of them."
      ]
    },
    {
      "cell_type": "markdown",
      "metadata": {
        "id": "KzPoH1CA0dZs"
      },
      "source": [
        "Let's say for example you have $A$ and $B$ as system of equation."
      ]
    },
    {
      "cell_type": "markdown",
      "metadata": {
        "id": "-oqMxQ-b0h0y"
      },
      "source": [
        "$$\n",
        "A = \\left\\{\n",
        "    \\begin{array}\\\n",
        "        x + y \\\\ \n",
        "        4x - 10y\n",
        "    \\end{array}\n",
        "\\right. \\\\\n",
        "B = \\left\\{\n",
        "    \\begin{array}\\\n",
        "        x+y+z \\\\ \n",
        "        3x -2y -z \\\\\n",
        "        -x + 4y +2z\n",
        "    \\end{array}\n",
        "\\right. $$"
      ]
    },
    {
      "cell_type": "markdown",
      "metadata": {
        "id": "BJo0A5AI0j2Z"
      },
      "source": [
        "We could see that $A$ is a system of 2 equations with 2 parameters. While $B$ is a system of 3 equations with 3 parameters. We can represent them as matrices as:"
      ]
    },
    {
      "cell_type": "markdown",
      "metadata": {
        "id": "6qo2wjCj0m76"
      },
      "source": [
        "$$\n",
        "A=\\begin{bmatrix} 1 & 1 \\\\ 4 & {-10}\\end{bmatrix} \\\\\n",
        "B=\\begin{bmatrix} 1 & 1 & 1 \\\\ 3 & -2 & -1 \\\\ -1 & 4 & 2\\end{bmatrix}\n",
        "$$"
      ]
    },
    {
      "cell_type": "markdown",
      "metadata": {
        "id": "AIM3EjOg0p6f"
      },
      "source": [
        "### ***Declaring Matrices***"
      ]
    },
    {
      "cell_type": "markdown",
      "metadata": {
        "id": "8Jc93LTF0s-v"
      },
      "source": [
        "Just like our previous laboratory activity, we'll represent system of linear equations as a matrix. The entities or numbers in matrices are called the elements of a matrix. These elements are arranged and ordered in rows and columns which form the list/array-like structure of matrices. And just like arrays, these elements are indexed according to their position with respect to their rows and columns. This can be reprsented just like the equation below. Whereas $A$ is a matrix consisting of elements denoted by $a_{i,j}$. Denoted by $i$ is the number of rows in the matrix while $j$ stands for the number of columns.<br>\n",
        "Do note that the $size$ of a matrix is $i\\times j$."
      ]
    },
    {
      "cell_type": "markdown",
      "metadata": {
        "id": "YiTyhPdR06pV"
      },
      "source": [
        "$$A=\\begin{bmatrix}\n",
        "a_{(0,0)}&a_{(0,1)}&\\dots&a_{(0,j-1)}\\\\\n",
        "a_{(1,0)}&a_{(1,1)}&\\dots&a_{(1,j-1)}\\\\\n",
        "\\vdots&\\vdots&\\ddots&\\vdots&\\\\\n",
        "a_{(i-1,0)}&a_{(i-1,1)}&\\dots&a_{(i-1,j-1)}\n",
        "\\end{bmatrix}\n",
        "$$"
      ]
    },
    {
      "cell_type": "markdown",
      "metadata": {
        "id": "lM4GVdS11E75"
      },
      "source": [
        "We already gone over some of the types of matrices as vectors but we'll further discuss them in this laboratory activity. Since you already know how to describe vectors using <b>shape</b>, <b>dimensions</b> and <b>size</b> attributes, we'll use them to analyze these matrices."
      ]
    },
    {
      "cell_type": "code",
      "metadata": {
        "id": "w3E40mFm1Ih9"
      },
      "source": [
        "## Since we'll keep on describing matrices. Let's make a function.\n",
        "def describe_mat(matrix):\n",
        "    print(f'Matrix:\\n{matrix}\\n\\nShape:\\t{matrix.shape}\\nRank:\\t{matrix.ndim}\\n')"
      ],
      "execution_count": null,
      "outputs": []
    },
    {
      "cell_type": "code",
      "metadata": {
        "colab": {
          "base_uri": "https://localhost:8080/"
        },
        "id": "519FN0DX1Knr",
        "outputId": "fe280bf7-dc4a-464c-f8f4-d594811fe319"
      },
      "source": [
        "## Declaring a 2 x 2 matrix\n",
        "A = np.array([\n",
        "    [1, 2],\n",
        "    [3, 1]\n",
        "])\n",
        "describe_mat(A)"
      ],
      "execution_count": null,
      "outputs": [
        {
          "output_type": "stream",
          "name": "stdout",
          "text": [
            "Matrix:\n",
            "[[1 2]\n",
            " [3 1]]\n",
            "\n",
            "Shape:\t(2, 2)\n",
            "Rank:\t2\n",
            "\n"
          ]
        }
      ]
    },
    {
      "cell_type": "code",
      "metadata": {
        "colab": {
          "base_uri": "https://localhost:8080/"
        },
        "id": "aiQ-N8t81MIN",
        "outputId": "407e8d40-c2f0-4ce3-c09d-5cf92b9a69d3"
      },
      "source": [
        "G = np.array([\n",
        "    [1,1],\n",
        "    [2,2]\n",
        "])\n",
        "describe_mat(G)"
      ],
      "execution_count": null,
      "outputs": [
        {
          "output_type": "stream",
          "name": "stdout",
          "text": [
            "Matrix:\n",
            "[[1 1]\n",
            " [2 2]]\n",
            "\n",
            "Shape:\t(2, 2)\n",
            "Rank:\t2\n",
            "\n"
          ]
        }
      ]
    },
    {
      "cell_type": "code",
      "metadata": {
        "colab": {
          "base_uri": "https://localhost:8080/"
        },
        "id": "pifglt6A1TAv",
        "outputId": "3134de1e-d993-400f-a9bd-51c5c051589f"
      },
      "source": [
        "## Declaring a 3 x 2 matrix\n",
        "B = np.array([\n",
        "    [8, 2],\n",
        "    [5, 4],\n",
        "    [1, 1]\n",
        "])\n",
        "describe_mat(B)"
      ],
      "execution_count": null,
      "outputs": [
        {
          "output_type": "stream",
          "name": "stdout",
          "text": [
            "Matrix:\n",
            "[[8 2]\n",
            " [5 4]\n",
            " [1 1]]\n",
            "\n",
            "Shape:\t(3, 2)\n",
            "Rank:\t2\n",
            "\n"
          ]
        }
      ]
    },
    {
      "cell_type": "code",
      "metadata": {
        "colab": {
          "base_uri": "https://localhost:8080/"
        },
        "id": "jhOAdz6q1Va3",
        "outputId": "1fbd3fba-fbd3-476d-9210-70579450c2ec"
      },
      "source": [
        "H = np.array([1,2,3,4,5])\n",
        "describe_mat(H)"
      ],
      "execution_count": null,
      "outputs": [
        {
          "output_type": "stream",
          "name": "stdout",
          "text": [
            "Matrix:\n",
            "[1 2 3 4 5]\n",
            "\n",
            "Shape:\t(5,)\n",
            "Rank:\t1\n",
            "\n"
          ]
        }
      ]
    },
    {
      "cell_type": "markdown",
      "metadata": {
        "id": "Ti7US17A1YGQ"
      },
      "source": [
        "## **Categorizing** **Matrices**"
      ]
    },
    {
      "cell_type": "markdown",
      "metadata": {
        "id": "uND0dpPN1acY"
      },
      "source": [
        "There are several ways of classifying matrices. Once could be according to their <b>shape</b> and another is according to their <b>element values</b>. We'll try to go through them."
      ]
    },
    {
      "cell_type": "markdown",
      "metadata": {
        "id": "9P6uMH1U1hjt"
      },
      "source": [
        "### ***According to shape***"
      ]
    },
    {
      "cell_type": "markdown",
      "metadata": {
        "id": "6tbF2a1E1jqx"
      },
      "source": [
        "#### Row and Column Matrices"
      ]
    },
    {
      "cell_type": "markdown",
      "metadata": {
        "id": "uQFT-vzK1lqI"
      },
      "source": [
        "Row and column matrices are common in vector and matrix computations. They can also represent row and column spaces of a bigger vector space. Row and column matrices are represented by a single column or single row. So with that being, the shape of row matrices would be $1 \\times j$ and column matrices would be $i \\times 1$."
      ]
    },
    {
      "cell_type": "code",
      "metadata": {
        "colab": {
          "base_uri": "https://localhost:8080/"
        },
        "id": "3y90LNqm1opo",
        "outputId": "af1e7c32-70de-4f2f-bfd1-09071e496259"
      },
      "source": [
        "## Declaring a Row Matrix\n",
        "\n",
        "row_mat_1D = np.array([\n",
        "    1, 3, 2\n",
        "]) ## this is a 1-D Matrix with a shape of (3,), it's not really considered as a row matrix.\n",
        "row_mat_2D = np.array([\n",
        "    [1,2,3]\n",
        "]) ## this is a 2-D Matrix with a shape of (1,3)\n",
        "describe_mat(row_mat_1D)\n",
        "describe_mat(row_mat_2D)"
      ],
      "execution_count": null,
      "outputs": [
        {
          "output_type": "stream",
          "name": "stdout",
          "text": [
            "Matrix:\n",
            "[1 3 2]\n",
            "\n",
            "Shape:\t(3,)\n",
            "Rank:\t1\n",
            "\n",
            "Matrix:\n",
            "[[1 2 3]]\n",
            "\n",
            "Shape:\t(1, 3)\n",
            "Rank:\t2\n",
            "\n"
          ]
        }
      ]
    },
    {
      "cell_type": "code",
      "metadata": {
        "colab": {
          "base_uri": "https://localhost:8080/"
        },
        "id": "_fvbCPEx1qrC",
        "outputId": "5b9534ab-8859-4a9b-aa43-e62c038a39b0"
      },
      "source": [
        "## Declaring a Column Matrix\n",
        "\n",
        "col_mat = np.array([\n",
        "    [1],\n",
        "    [2],\n",
        "    [5]\n",
        "]) ## this is a 2-D Matrix with a shape of (3,1)\n",
        "describe_mat(col_mat)"
      ],
      "execution_count": null,
      "outputs": [
        {
          "output_type": "stream",
          "name": "stdout",
          "text": [
            "Matrix:\n",
            "[[1]\n",
            " [2]\n",
            " [5]]\n",
            "\n",
            "Shape:\t(3, 1)\n",
            "Rank:\t2\n",
            "\n"
          ]
        }
      ]
    },
    {
      "cell_type": "markdown",
      "metadata": {
        "id": "Ng3i64wS13GI"
      },
      "source": [
        "#### Square Matrices"
      ]
    },
    {
      "cell_type": "markdown",
      "metadata": {
        "id": "Gj15X5aY19a1"
      },
      "source": [
        "Square matrices are matrices that have the same row and column sizes. We could say a matrix is square if $i = j$. We can tweak our matrix descriptor function to determine square matrices."
      ]
    },
    {
      "cell_type": "code",
      "metadata": {
        "id": "KZt9bDq31-I2"
      },
      "source": [
        "def describe_mat(matrix):\n",
        "    is_square = True if matrix.shape[0] == matrix.shape[1] else False \n",
        "    print(f'Matrix:\\n{matrix}\\n\\nShape:\\t{matrix.shape}\\nRank:\\t{matrix.ndim}\\nIs Square: {is_square}\\n')"
      ],
      "execution_count": null,
      "outputs": []
    },
    {
      "cell_type": "code",
      "metadata": {
        "colab": {
          "base_uri": "https://localhost:8080/"
        },
        "id": "Ikqimphi2Bl7",
        "outputId": "34d2dd6c-5d70-4db5-9a29-1aa8b57b422e"
      },
      "source": [
        "square_mat = np.array([\n",
        "    [1,2,5],\n",
        "    [3,3,8],\n",
        "    [6,1,2]\n",
        "])\n",
        "\n",
        "non_square_mat = np.array([\n",
        "    [1,2,5],\n",
        "    [3,3,8]\n",
        "])\n",
        "describe_mat(square_mat)\n",
        "describe_mat(non_square_mat)"
      ],
      "execution_count": null,
      "outputs": [
        {
          "output_type": "stream",
          "name": "stdout",
          "text": [
            "Matrix:\n",
            "[[1 2 5]\n",
            " [3 3 8]\n",
            " [6 1 2]]\n",
            "\n",
            "Shape:\t(3, 3)\n",
            "Rank:\t2\n",
            "Is Square: True\n",
            "\n",
            "Matrix:\n",
            "[[1 2 5]\n",
            " [3 3 8]]\n",
            "\n",
            "Shape:\t(2, 3)\n",
            "Rank:\t2\n",
            "Is Square: False\n",
            "\n"
          ]
        }
      ]
    },
    {
      "cell_type": "markdown",
      "metadata": {
        "id": "0RExC21B2Eph"
      },
      "source": [
        "### ***According to element values***"
      ]
    },
    {
      "cell_type": "markdown",
      "metadata": {
        "id": "GKvJ0czw2H82"
      },
      "source": [
        "#### *Null Matrix*"
      ]
    },
    {
      "cell_type": "markdown",
      "metadata": {
        "id": "Iw4fSM052LJV"
      },
      "source": [
        "A Null Matrix is a matrix that has no elements. It is always a subspace of any vector or matrix."
      ]
    },
    {
      "cell_type": "code",
      "metadata": {
        "id": "T5KVf0DA2OXC"
      },
      "source": [
        "def describe_mat(matrix):\n",
        "    if matrix.size > 0:\n",
        "        is_square = True if matrix.shape[0] == matrix.shape[1] else False \n",
        "        print(f'Matrix:\\n{matrix}\\n\\nShape:\\t{matrix.shape}\\nRank:\\t{matrix.ndim}\\nIs Square: {is_square}\\n')\n",
        "    else:\n",
        "        print('Matrix is Null')"
      ],
      "execution_count": null,
      "outputs": []
    },
    {
      "cell_type": "code",
      "metadata": {
        "colab": {
          "base_uri": "https://localhost:8080/"
        },
        "id": "1YwOgd-q2Q9E",
        "outputId": "1dd4a0ea-d852-4bca-eae4-d0a15adc2a15"
      },
      "source": [
        "null_mat = np.array([])\n",
        "describe_mat(null_mat)"
      ],
      "execution_count": null,
      "outputs": [
        {
          "output_type": "stream",
          "name": "stdout",
          "text": [
            "Matrix is Null\n"
          ]
        }
      ]
    },
    {
      "cell_type": "markdown",
      "metadata": {
        "id": "GSxa72ET2Tke"
      },
      "source": [
        "#### *Zero Matrix*"
      ]
    },
    {
      "cell_type": "markdown",
      "metadata": {
        "id": "y6-dDY8B2Vb6"
      },
      "source": [
        "A zero matrix can be any rectangular matrix but with all elements having a value of 0."
      ]
    },
    {
      "cell_type": "code",
      "metadata": {
        "colab": {
          "base_uri": "https://localhost:8080/"
        },
        "id": "tT1gerQy2ZEC",
        "outputId": "3ff1825c-4d0e-4481-8bc6-38d5fad1135a"
      },
      "source": [
        "zero_mat_row = np.zeros((1,2))\n",
        "zero_mat_sqr = np.zeros((2,2))\n",
        "zero_mat_rct = np.zeros((3,2))\n",
        "\n",
        "print(f'Zero Row Matrix: \\n{zero_mat_row}')\n",
        "print(f'Zero Square Matrix: \\n{zero_mat_sqr}')\n",
        "print(f'Zero Rectangular Matrix: \\n{zero_mat_rct}')"
      ],
      "execution_count": null,
      "outputs": [
        {
          "output_type": "stream",
          "name": "stdout",
          "text": [
            "Zero Row Matrix: \n",
            "[[0. 0.]]\n",
            "Zero Square Matrix: \n",
            "[[0. 0.]\n",
            " [0. 0.]]\n",
            "Zero Rectangular Matrix: \n",
            "[[0. 0.]\n",
            " [0. 0.]\n",
            " [0. 0.]]\n"
          ]
        }
      ]
    },
    {
      "cell_type": "markdown",
      "metadata": {
        "id": "T1kqL1U87v85"
      },
      "source": [
        "#### *Ones Matrix*"
      ]
    },
    {
      "cell_type": "markdown",
      "metadata": {
        "id": "MlhcEu6Q7zEd"
      },
      "source": [
        "A ones matrix, just like the zero matrix, can be any rectangular matrix but all of its elements are 1s instead of 0s."
      ]
    },
    {
      "cell_type": "code",
      "metadata": {
        "colab": {
          "base_uri": "https://localhost:8080/"
        },
        "id": "DKVmXFmR723U",
        "outputId": "d36874d4-fd4b-411c-a4ee-389552347fa0"
      },
      "source": [
        "ones_mat_row = np.ones((1,2))\n",
        "ones_mat_sqr = np.ones((2,2))\n",
        "ones_mat_rct = np.ones((3,2))\n",
        "\n",
        "print(f'Ones Row Matrix: \\n{ones_mat_row}')\n",
        "print(f'Ones Square Matrix: \\n{ones_mat_sqr}')\n",
        "print(f'Ones Rectangular Matrix: \\n{ones_mat_rct}')"
      ],
      "execution_count": null,
      "outputs": [
        {
          "output_type": "stream",
          "name": "stdout",
          "text": [
            "Ones Row Matrix: \n",
            "[[1. 1.]]\n",
            "Ones Square Matrix: \n",
            "[[1. 1.]\n",
            " [1. 1.]]\n",
            "Ones Rectangular Matrix: \n",
            "[[1. 1.]\n",
            " [1. 1.]\n",
            " [1. 1.]]\n"
          ]
        }
      ]
    },
    {
      "cell_type": "markdown",
      "metadata": {
        "id": "ipQVb1_K75XX"
      },
      "source": [
        "#### *Diagonal Matrix*"
      ]
    },
    {
      "cell_type": "markdown",
      "metadata": {
        "id": "TdS4VJqX784K"
      },
      "source": [
        "A diagonal matrix is a square matrix that has values only at the diagonal of the matrix. "
      ]
    },
    {
      "cell_type": "code",
      "metadata": {
        "colab": {
          "base_uri": "https://localhost:8080/"
        },
        "id": "8p9Md0yR8DMB",
        "outputId": "9a373207-38cc-4bc4-a144-ab73ff51dd03"
      },
      "source": [
        "np.array([\n",
        "    [2,0,0],\n",
        "    [0,3,0],\n",
        "    [0,0,5]\n",
        "])\n",
        "# a[1,1], a[2,2], a[3,3], ... a[n-1,n-1]"
      ],
      "execution_count": null,
      "outputs": [
        {
          "output_type": "execute_result",
          "data": {
            "text/plain": [
              "array([[2, 0, 0],\n",
              "       [0, 3, 0],\n",
              "       [0, 0, 5]])"
            ]
          },
          "metadata": {},
          "execution_count": 15
        }
      ]
    },
    {
      "cell_type": "code",
      "metadata": {
        "colab": {
          "base_uri": "https://localhost:8080/"
        },
        "id": "xr7xwVcm9H5k",
        "outputId": "f793d267-f74d-4b6a-88ac-7ab03fcc3f06"
      },
      "source": [
        "d = np.diag([2,3,5,7])\n",
        "d"
      ],
      "execution_count": null,
      "outputs": [
        {
          "output_type": "execute_result",
          "data": {
            "text/plain": [
              "array([[2, 0, 0, 0],\n",
              "       [0, 3, 0, 0],\n",
              "       [0, 0, 5, 0],\n",
              "       [0, 0, 0, 7]])"
            ]
          },
          "metadata": {},
          "execution_count": 30
        }
      ]
    },
    {
      "cell_type": "markdown",
      "metadata": {
        "id": "R-zXUgXj9K2q"
      },
      "source": [
        "#### *Identity Matrix*"
      ]
    },
    {
      "cell_type": "markdown",
      "metadata": {
        "id": "r1e7DlU_9OMH"
      },
      "source": [
        "An identity matrix is a special diagonal matrix in which the values at the diagonal are ones."
      ]
    },
    {
      "cell_type": "code",
      "metadata": {
        "colab": {
          "base_uri": "https://localhost:8080/"
        },
        "id": "jvqOub949PB8",
        "outputId": "59369a61-ce67-4f6e-c1a2-4cef16a09a68"
      },
      "source": [
        "np.eye(5)"
      ],
      "execution_count": null,
      "outputs": [
        {
          "output_type": "execute_result",
          "data": {
            "text/plain": [
              "array([[1., 0., 0., 0., 0.],\n",
              "       [0., 1., 0., 0., 0.],\n",
              "       [0., 0., 1., 0., 0.],\n",
              "       [0., 0., 0., 1., 0.],\n",
              "       [0., 0., 0., 0., 1.]])"
            ]
          },
          "metadata": {},
          "execution_count": 26
        }
      ]
    },
    {
      "cell_type": "code",
      "metadata": {
        "colab": {
          "base_uri": "https://localhost:8080/"
        },
        "id": "kgj1Khxf9SUv",
        "outputId": "ddba23b2-397f-4ef0-89a0-516bed1d7d1c"
      },
      "source": [
        "np.identity(5)"
      ],
      "execution_count": null,
      "outputs": [
        {
          "output_type": "execute_result",
          "data": {
            "text/plain": [
              "array([[1., 0., 0., 0., 0.],\n",
              "       [0., 1., 0., 0., 0.],\n",
              "       [0., 0., 1., 0., 0.],\n",
              "       [0., 0., 0., 1., 0.],\n",
              "       [0., 0., 0., 0., 1.]])"
            ]
          },
          "metadata": {},
          "execution_count": 27
        }
      ]
    },
    {
      "cell_type": "markdown",
      "metadata": {
        "id": "uZQ_0fVt9mcl"
      },
      "source": [
        "#### *Upper Triangular Matrix*"
      ]
    },
    {
      "cell_type": "markdown",
      "metadata": {
        "id": "3fkm6Pz69pP6"
      },
      "source": [
        "An upper triangular matrix is a matrix that has no values below the diagonal. "
      ]
    },
    {
      "cell_type": "code",
      "metadata": {
        "colab": {
          "base_uri": "https://localhost:8080/"
        },
        "id": "CLeGi3R29xB3",
        "outputId": "551d975a-3c84-4c26-8435-caa20273330f"
      },
      "source": [
        "np.array([\n",
        "    [1,2,3],\n",
        "    [0,3,1],\n",
        "    [0,0,5]\n",
        "])"
      ],
      "execution_count": null,
      "outputs": [
        {
          "output_type": "execute_result",
          "data": {
            "text/plain": [
              "array([[1, 2, 3],\n",
              "       [0, 3, 1],\n",
              "       [0, 0, 5]])"
            ]
          },
          "metadata": {},
          "execution_count": 28
        }
      ]
    },
    {
      "cell_type": "markdown",
      "metadata": {
        "id": "rpDaKMml90A9"
      },
      "source": [
        "#### *Lower Triangular Matrix*"
      ]
    },
    {
      "cell_type": "markdown",
      "metadata": {
        "id": "0SQKeq9M93wN"
      },
      "source": [
        "A lower triangular matrix is a matrix that has no values above the diagonal."
      ]
    },
    {
      "cell_type": "code",
      "metadata": {
        "colab": {
          "base_uri": "https://localhost:8080/"
        },
        "id": "ubVe1__X927B",
        "outputId": "c5a4a1fc-7092-490b-9679-f7b8a7a47f1c"
      },
      "source": [
        "np.array([\n",
        "    [1,0,0],\n",
        "    [5,3,0],\n",
        "    [7,8,5]\n",
        "])"
      ],
      "execution_count": null,
      "outputs": [
        {
          "output_type": "execute_result",
          "data": {
            "text/plain": [
              "array([[1, 0, 0],\n",
              "       [5, 3, 0],\n",
              "       [7, 8, 5]])"
            ]
          },
          "metadata": {},
          "execution_count": 29
        }
      ]
    },
    {
      "cell_type": "markdown",
      "metadata": {
        "id": "2RfiXTgk-KK8"
      },
      "source": [
        "## **Matrix** **Algebra**"
      ]
    },
    {
      "cell_type": "markdown",
      "metadata": {
        "id": "hH1pYWN4-rWq"
      },
      "source": [
        "### **Addition**"
      ]
    },
    {
      "cell_type": "code",
      "metadata": {
        "colab": {
          "base_uri": "https://localhost:8080/"
        },
        "id": "TfuzX6tQ-vfl",
        "outputId": "6caac7ee-b920-4267-d411-2e7ee347a368"
      },
      "source": [
        "A = np.array([\n",
        "    [1,2],\n",
        "    [2,3],\n",
        "    [4,1]\n",
        "])\n",
        "B = np.array([\n",
        "    [2,2],\n",
        "    [0,0],\n",
        "    [1,1]\n",
        "])\n",
        "A+B"
      ],
      "execution_count": null,
      "outputs": [
        {
          "output_type": "execute_result",
          "data": {
            "text/plain": [
              "array([[3, 4],\n",
              "       [2, 3],\n",
              "       [5, 2]])"
            ]
          },
          "metadata": {},
          "execution_count": 31
        }
      ]
    },
    {
      "cell_type": "code",
      "metadata": {
        "colab": {
          "base_uri": "https://localhost:8080/"
        },
        "id": "uJt9ZSns-yah",
        "outputId": "aa3071c5-c2a0-4fb3-bfa1-b2cbba40fa3a"
      },
      "source": [
        "2+A ##Broadcasting\n",
        "# 2*np.ones(A.shape)+A"
      ],
      "execution_count": null,
      "outputs": [
        {
          "output_type": "execute_result",
          "data": {
            "text/plain": [
              "array([[3, 4],\n",
              "       [4, 5],\n",
              "       [6, 3]])"
            ]
          },
          "metadata": {},
          "execution_count": 32
        }
      ]
    },
    {
      "cell_type": "markdown",
      "metadata": {
        "id": "kbCXeAE5-7Uh"
      },
      "source": [
        "### **Subtraction**"
      ]
    },
    {
      "cell_type": "code",
      "metadata": {
        "colab": {
          "base_uri": "https://localhost:8080/"
        },
        "id": "bCgR-CwR_AhR",
        "outputId": "8abb9733-dd10-4f07-838b-8272d3724999"
      },
      "source": [
        "A-B"
      ],
      "execution_count": null,
      "outputs": [
        {
          "output_type": "execute_result",
          "data": {
            "text/plain": [
              "array([[-1,  0],\n",
              "       [ 2,  3],\n",
              "       [ 3,  0]])"
            ]
          },
          "metadata": {},
          "execution_count": 33
        }
      ]
    },
    {
      "cell_type": "code",
      "metadata": {
        "colab": {
          "base_uri": "https://localhost:8080/"
        },
        "id": "L4n9Xf-t_DLT",
        "outputId": "f0d694f3-59f6-4f7e-ecfd-04ef69a45571"
      },
      "source": [
        "3-B == 3*np.ones(B.shape)-B"
      ],
      "execution_count": null,
      "outputs": [
        {
          "output_type": "execute_result",
          "data": {
            "text/plain": [
              "array([[ True,  True],\n",
              "       [ True,  True],\n",
              "       [ True,  True]])"
            ]
          },
          "metadata": {},
          "execution_count": 36
        }
      ]
    },
    {
      "cell_type": "markdown",
      "metadata": {
        "id": "ROCD9JjI_FD_"
      },
      "source": [
        "### **Element-wise Multiplication**"
      ]
    },
    {
      "cell_type": "code",
      "metadata": {
        "colab": {
          "base_uri": "https://localhost:8080/"
        },
        "id": "Gqj3tJ62_IRu",
        "outputId": "84a760d6-8d6b-468c-89e2-ca4f48c64786"
      },
      "source": [
        "A*B\n",
        "np.multiply(A,B)"
      ],
      "execution_count": null,
      "outputs": [
        {
          "output_type": "execute_result",
          "data": {
            "text/plain": [
              "array([[2, 4],\n",
              "       [0, 0],\n",
              "       [4, 1]])"
            ]
          },
          "metadata": {},
          "execution_count": 35
        }
      ]
    },
    {
      "cell_type": "code",
      "metadata": {
        "colab": {
          "base_uri": "https://localhost:8080/"
        },
        "id": "2-YHV3zX_LKJ",
        "outputId": "0a67599d-1702-45b9-e405-09ed07a2aceb"
      },
      "source": [
        "2*A"
      ],
      "execution_count": null,
      "outputs": [
        {
          "output_type": "execute_result",
          "data": {
            "text/plain": [
              "array([[2, 4],\n",
              "       [4, 6],\n",
              "       [8, 2]])"
            ]
          },
          "metadata": {},
          "execution_count": 37
        }
      ]
    },
    {
      "cell_type": "code",
      "metadata": {
        "colab": {
          "base_uri": "https://localhost:8080/"
        },
        "id": "1CAviY1-_1gK",
        "outputId": "0302574e-be87-4527-fd55-97eb0cfd05c6"
      },
      "source": [
        "alpha=10**-10\n",
        "A/(alpha+B)"
      ],
      "execution_count": null,
      "outputs": [
        {
          "output_type": "execute_result",
          "data": {
            "text/plain": [
              "array([[5.e-01, 1.e+00],\n",
              "       [2.e+10, 3.e+10],\n",
              "       [4.e+00, 1.e+00]])"
            ]
          },
          "metadata": {},
          "execution_count": 39
        }
      ]
    },
    {
      "cell_type": "code",
      "metadata": {
        "colab": {
          "base_uri": "https://localhost:8080/"
        },
        "id": "aKQIemAX_4ug",
        "outputId": "46ba9caa-59de-4350-a876-25d68c4fa10c"
      },
      "source": [
        "np.add(A,B)"
      ],
      "execution_count": null,
      "outputs": [
        {
          "output_type": "execute_result",
          "data": {
            "text/plain": [
              "array([[3, 4],\n",
              "       [2, 3],\n",
              "       [5, 2]])"
            ]
          },
          "metadata": {},
          "execution_count": 40
        }
      ]
    },
    {
      "cell_type": "markdown",
      "metadata": {
        "id": "Zf3ziaye_6zX"
      },
      "source": [
        "## **Activity**"
      ]
    },
    {
      "cell_type": "markdown",
      "metadata": {
        "id": "wjwY7u0c_8lB"
      },
      "source": [
        "### ***TASK 1***"
      ]
    },
    {
      "cell_type": "markdown",
      "metadata": {
        "id": "CWwMeh7vAB48"
      },
      "source": [
        "Create a function named `mat_desc()` that througouhly describes a matrix, it should: <br>\n",
        "1. Displays the shape, size, and rank of the matrix. <br>\n",
        "2. Displays whether the matrix is square or non-square. <br>\n",
        "3. Displays whether the matrix is an empty matrix. <br>\n",
        "4. Displays if the matrix is an identity, ones, or zeros matrix <br>\n",
        "   \n",
        "Use sample matrices in which their shapes are not lower than $(3,3)$.\n",
        "In your methodology, create a flowchart discuss the functions and methods you have done. Present your results in the results section showing the description of each matrix you have declared."
      ]
    },
    {
      "cell_type": "markdown",
      "metadata": {
        "id": "ar5prlf3JdeH"
      },
      "source": [
        "#### 1. **Shape, Size and Rank of a Matrix**"
      ]
    },
    {
      "cell_type": "code",
      "metadata": {
        "id": "92sdH5i4ABKt"
      },
      "source": [
        "def mat_desc(matrix):\n",
        "    print(f'Matrix:\\n{matrix}\\n\\nShape:\\t{matrix.shape}\\nRank:\\t{matrix.ndim}\\n')"
      ],
      "execution_count": null,
      "outputs": []
    },
    {
      "cell_type": "code",
      "metadata": {
        "colab": {
          "base_uri": "https://localhost:8080/"
        },
        "id": "bgCav4vPALpB",
        "outputId": "c3faabf0-2912-468b-95f8-0cf5f8cb997c"
      },
      "source": [
        "A = np.array([\n",
        "    [2,6,1 ],\n",
        "    [1,5,-3],\n",
        "    [7,-2,4],\n",
        "    [-9,3,8]          \n",
        "])\n",
        "mat_desc(A)"
      ],
      "execution_count": null,
      "outputs": [
        {
          "output_type": "stream",
          "name": "stdout",
          "text": [
            "Matrix:\n",
            "[[ 2  6  1]\n",
            " [ 1  5 -3]\n",
            " [ 7 -2  4]\n",
            " [-9  3  8]]\n",
            "\n",
            "Shape:\t(4, 3)\n",
            "Rank:\t2\n",
            "\n"
          ]
        }
      ]
    },
    {
      "cell_type": "code",
      "metadata": {
        "colab": {
          "base_uri": "https://localhost:8080/"
        },
        "id": "TWPTezI0AL7u",
        "outputId": "188b279e-dca7-470b-940f-1b374ea7f771"
      },
      "source": [
        "B = np.array([\n",
        "    [5,3,-7,5],\n",
        "    [-6,1,2,0],\n",
        "    [9,-4,3,6]    \n",
        "])\n",
        "mat_desc(B)"
      ],
      "execution_count": null,
      "outputs": [
        {
          "output_type": "stream",
          "name": "stdout",
          "text": [
            "Matrix:\n",
            "[[ 5  3 -7  5]\n",
            " [-6  1  2  0]\n",
            " [ 9 -4  3  6]]\n",
            "\n",
            "Shape:\t(3, 4)\n",
            "Rank:\t2\n",
            "\n"
          ]
        }
      ]
    },
    {
      "cell_type": "code",
      "metadata": {
        "colab": {
          "base_uri": "https://localhost:8080/"
        },
        "id": "splUWn_8KeHG",
        "outputId": "1432a748-a3ed-46f4-81c1-3dbabecb96b5"
      },
      "source": [
        "row_mat_1D = np.array([\n",
        "   3, 2, 1                     \n",
        "]) \n",
        "row_mat_2D = np.array([\n",
        "       [6,4,-9], \n",
        "       [5,1,1], \n",
        "       [-2,7,-1], \n",
        "       [-3,2,6],                \n",
        "]) \n",
        "mat_desc(row_mat_1D)\n",
        "mat_desc(row_mat_2D)"
      ],
      "execution_count": null,
      "outputs": [
        {
          "output_type": "stream",
          "name": "stdout",
          "text": [
            "Matrix:\n",
            "[3 2 1]\n",
            "\n",
            "Shape:\t(3,)\n",
            "Rank:\t1\n",
            "\n",
            "Matrix:\n",
            "[[ 6  4 -9]\n",
            " [ 5  1  1]\n",
            " [-2  7 -1]\n",
            " [-3  2  6]]\n",
            "\n",
            "Shape:\t(4, 3)\n",
            "Rank:\t2\n",
            "\n"
          ]
        }
      ]
    },
    {
      "cell_type": "code",
      "metadata": {
        "colab": {
          "base_uri": "https://localhost:8080/"
        },
        "id": "GyYU5G8lK5lh",
        "outputId": "49cdab46-de3d-445b-8c81-987e3d8b2fa6"
      },
      "source": [
        "col_mat = np.array([\n",
        "    [6,5,4,5],\n",
        "    [-2,-3,-7,-1],\n",
        "    [1,6,3,0]                \n",
        "]) \n",
        "mat_desc(col_mat)"
      ],
      "execution_count": null,
      "outputs": [
        {
          "output_type": "stream",
          "name": "stdout",
          "text": [
            "Matrix:\n",
            "[[ 6  5  4  5]\n",
            " [-2 -3 -7 -1]\n",
            " [ 1  6  3  0]]\n",
            "\n",
            "Shape:\t(3, 4)\n",
            "Rank:\t2\n",
            "\n"
          ]
        }
      ]
    },
    {
      "cell_type": "markdown",
      "metadata": {
        "id": "QkFc-fUm0ngG"
      },
      "source": [
        "#### **FLOWCHART**\n",
        "![image.png](data:image/png;base64,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)"
      ]
    },
    {
      "cell_type": "markdown",
      "metadata": {
        "id": "rvOk0gpJLNjI"
      },
      "source": [
        "#### 2. **Square Matrices**"
      ]
    },
    {
      "cell_type": "code",
      "metadata": {
        "id": "YdUtbC1-LbFi"
      },
      "source": [
        "def mat_desc(matrix):\n",
        "  is_square = True if matrix.shape[0] == matrix.shape[1] else False\n",
        "  print (f'Matrix:\\n{matrix}\\n\\nShape:\\t{matrix.shape}\\nRank:\\t{matrix.ndim}\\nIs Square: {is_square}\\n')"
      ],
      "execution_count": null,
      "outputs": []
    },
    {
      "cell_type": "code",
      "metadata": {
        "colab": {
          "base_uri": "https://localhost:8080/"
        },
        "id": "BwOwDizVLfpq",
        "outputId": "2e415e47-283c-4be6-def2-c2481d5eb499"
      },
      "source": [
        "square_mat = np.array([\n",
        "    [9,8,7],\n",
        "    [6,5,4],\n",
        "    [3,2,1],                  \n",
        "])\n",
        "\n",
        "non_square_mat = np.array([\n",
        "   [3,9,5,-1],\n",
        "   [1,0,-2,6],\n",
        "   [-8,4,3,-5],\n",
        "])\n",
        "mat_desc(square_mat)\n",
        "mat_desc(non_square_mat)"
      ],
      "execution_count": null,
      "outputs": [
        {
          "output_type": "stream",
          "name": "stdout",
          "text": [
            "Matrix:\n",
            "[[9 8 7]\n",
            " [6 5 4]\n",
            " [3 2 1]]\n",
            "\n",
            "Shape:\t(3, 3)\n",
            "Rank:\t2\n",
            "Is Square: True\n",
            "\n",
            "Matrix:\n",
            "[[ 3  9  5 -1]\n",
            " [ 1  0 -2  6]\n",
            " [-8  4  3 -5]]\n",
            "\n",
            "Shape:\t(3, 4)\n",
            "Rank:\t2\n",
            "Is Square: False\n",
            "\n"
          ]
        }
      ]
    },
    {
      "cell_type": "markdown",
      "metadata": {
        "id": "sr0atB-y2avr"
      },
      "source": [
        "#### **FLOWCHART**\n",
        "![image.png](data:image/png;base64,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)"
      ]
    },
    {
      "cell_type": "markdown",
      "metadata": {
        "id": "ssq2TkAfMAe-"
      },
      "source": [
        "#### 3. **Empty Matrix**"
      ]
    },
    {
      "cell_type": "code",
      "metadata": {
        "id": "Dou1Sx-ZMFP5"
      },
      "source": [
        "def mat_desc(matrix):\n",
        "  if matrix.size > 0:\n",
        "    is_square = True if matrix.shape[0] == matrix.shape[1] else False\n",
        "    print (f'Matrix:\\n{matrix}\\n\\nShape:\\t{matrix.shape}\\nRank:\\t{matrix.ndim}\\nIs Square: {is_square}\\n')\n",
        "  else:\n",
        "    print('Matrix is Null')"
      ],
      "execution_count": null,
      "outputs": []
    },
    {
      "cell_type": "code",
      "metadata": {
        "colab": {
          "base_uri": "https://localhost:8080/"
        },
        "id": "YM4ZWjLCMHWI",
        "outputId": "04fcf0ac-2ca8-494f-b9ff-20d5fa49de69"
      },
      "source": [
        "null_mat = np.array([])\n",
        "mat_desc(null_mat)"
      ],
      "execution_count": null,
      "outputs": [
        {
          "output_type": "stream",
          "name": "stdout",
          "text": [
            "Matrix is Null\n"
          ]
        }
      ]
    },
    {
      "cell_type": "markdown",
      "metadata": {
        "id": "A59Wktnx49us"
      },
      "source": [
        "#### **FLOWCHART**\n",
        "![image.png](data:image/png;base64,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)"
      ]
    },
    {
      "cell_type": "markdown",
      "metadata": {
        "id": "L6RQog5WMJpM"
      },
      "source": [
        "#### 4. **Identity, Ones, and Zeros Matrix**"
      ]
    },
    {
      "cell_type": "markdown",
      "metadata": {
        "id": "SMRufHXyMQOi"
      },
      "source": [
        "##### **Zeros Matrix**"
      ]
    },
    {
      "cell_type": "code",
      "metadata": {
        "colab": {
          "base_uri": "https://localhost:8080/"
        },
        "id": "xzCjTDjnMVSa",
        "outputId": "aa8d03d6-ffca-4a90-b7bb-3358b2408a3a"
      },
      "source": [
        "zero_mat_row = np.zeros((4,5))\n",
        "zero_mat_sqr = np.zeros((4,4))\n",
        "zero_mat_rct = np.zeros((5,8))\n",
        "\n",
        "print(f'Zero Row Matrix: \\n{zero_mat_row}')\n",
        "print(f'Zero Square Matrix: \\n{zero_mat_sqr}')\n",
        "print(f'Zero Rectangular Matrix: \\n{zero_mat_rct}')"
      ],
      "execution_count": null,
      "outputs": [
        {
          "output_type": "stream",
          "name": "stdout",
          "text": [
            "Zero Row Matrix: \n",
            "[[0. 0. 0. 0. 0.]\n",
            " [0. 0. 0. 0. 0.]\n",
            " [0. 0. 0. 0. 0.]\n",
            " [0. 0. 0. 0. 0.]]\n",
            "Zero Square Matrix: \n",
            "[[0. 0. 0. 0.]\n",
            " [0. 0. 0. 0.]\n",
            " [0. 0. 0. 0.]\n",
            " [0. 0. 0. 0.]]\n",
            "Zero Rectangular Matrix: \n",
            "[[0. 0. 0. 0. 0. 0. 0. 0.]\n",
            " [0. 0. 0. 0. 0. 0. 0. 0.]\n",
            " [0. 0. 0. 0. 0. 0. 0. 0.]\n",
            " [0. 0. 0. 0. 0. 0. 0. 0.]\n",
            " [0. 0. 0. 0. 0. 0. 0. 0.]]\n"
          ]
        }
      ]
    },
    {
      "cell_type": "markdown",
      "metadata": {
        "id": "d_2kdHCb7crL"
      },
      "source": [
        "#### **FLOWCHART**\n",
        "![image.png](data:image/png;base64,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)"
      ]
    },
    {
      "cell_type": "markdown",
      "metadata": {
        "id": "GPiUP-e2Me3X"
      },
      "source": [
        "##### **Ones Matrix**"
      ]
    },
    {
      "cell_type": "code",
      "metadata": {
        "colab": {
          "base_uri": "https://localhost:8080/"
        },
        "id": "YCr1iVVNMjHG",
        "outputId": "2b9a7b74-8cbd-4dda-d4c2-6aebae62b460"
      },
      "source": [
        "ones_mat_row = np.ones((4,5))\n",
        "ones_mat_sqr = np.ones((4,4))\n",
        "ones_mat_rct = np.ones((5,8))\n",
        "\n",
        "\n",
        "print(f'Ones Row Matrix: \\n{ones_mat_row}')\n",
        "print(f'Ones square Matrix: \\n{ones_mat_sqr}')\n",
        "print(f'Ones Rectangular Matrix: \\n{ones_mat_rct}')"
      ],
      "execution_count": null,
      "outputs": [
        {
          "output_type": "stream",
          "name": "stdout",
          "text": [
            "Ones Row Matrix: \n",
            "[[1. 1. 1. 1. 1.]\n",
            " [1. 1. 1. 1. 1.]\n",
            " [1. 1. 1. 1. 1.]\n",
            " [1. 1. 1. 1. 1.]]\n",
            "Ones square Matrix: \n",
            "[[1. 1. 1. 1.]\n",
            " [1. 1. 1. 1.]\n",
            " [1. 1. 1. 1.]\n",
            " [1. 1. 1. 1.]]\n",
            "Ones Rectangular Matrix: \n",
            "[[1. 1. 1. 1. 1. 1. 1. 1.]\n",
            " [1. 1. 1. 1. 1. 1. 1. 1.]\n",
            " [1. 1. 1. 1. 1. 1. 1. 1.]\n",
            " [1. 1. 1. 1. 1. 1. 1. 1.]\n",
            " [1. 1. 1. 1. 1. 1. 1. 1.]]\n"
          ]
        }
      ]
    },
    {
      "cell_type": "markdown",
      "metadata": {
        "id": "vPCIvkKw7hAP"
      },
      "source": [
        "#### **FLOWCHART**\n",
        "![image.png](data:image/png;base64,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)"
      ]
    },
    {
      "cell_type": "markdown",
      "metadata": {
        "id": "dY-6TBrdMwDo"
      },
      "source": [
        "##### **Identity Matrix**"
      ]
    },
    {
      "cell_type": "code",
      "metadata": {
        "colab": {
          "base_uri": "https://localhost:8080/"
        },
        "id": "F9OsecR1MzOg",
        "outputId": "f3a9407e-b811-4f42-f189-d6c6d1114f2c"
      },
      "source": [
        "np.eye(5)"
      ],
      "execution_count": null,
      "outputs": [
        {
          "output_type": "execute_result",
          "data": {
            "text/plain": [
              "array([[1., 0., 0., 0., 0.],\n",
              "       [0., 1., 0., 0., 0.],\n",
              "       [0., 0., 1., 0., 0.],\n",
              "       [0., 0., 0., 1., 0.],\n",
              "       [0., 0., 0., 0., 1.]])"
            ]
          },
          "metadata": {},
          "execution_count": 62
        }
      ]
    },
    {
      "cell_type": "code",
      "metadata": {
        "colab": {
          "base_uri": "https://localhost:8080/"
        },
        "id": "g4buwh-fM41L",
        "outputId": "a1d258df-2d81-4ecc-bd7a-d566f0bb8421"
      },
      "source": [
        "np.identity(6)"
      ],
      "execution_count": null,
      "outputs": [
        {
          "output_type": "execute_result",
          "data": {
            "text/plain": [
              "array([[1., 0., 0., 0., 0., 0.],\n",
              "       [0., 1., 0., 0., 0., 0.],\n",
              "       [0., 0., 1., 0., 0., 0.],\n",
              "       [0., 0., 0., 1., 0., 0.],\n",
              "       [0., 0., 0., 0., 1., 0.],\n",
              "       [0., 0., 0., 0., 0., 1.]])"
            ]
          },
          "metadata": {},
          "execution_count": 63
        }
      ]
    },
    {
      "cell_type": "markdown",
      "metadata": {
        "id": "pM1SIsub60ve"
      },
      "source": [
        "#### **FLOWCHART**\n",
        "![image.png](data:image/png;base64,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)"
      ]
    },
    {
      "cell_type": "markdown",
      "metadata": {
        "id": "S68oXhtKAMbT"
      },
      "source": [
        "### ***TASK 2***"
      ]
    },
    {
      "cell_type": "markdown",
      "metadata": {
        "id": "s6OPWlfOAOgD"
      },
      "source": [
        "Create a function named `mat_operations()` that takes in two matrices a input parameters it should:<br>\n",
        " 1. Determines if the matrices are viable for operation and returns your own error message if they are not viable.\n",
        " 2. Returns the sum of the matrices.\n",
        " 3. Returns the difference of the matrices.\n",
        " 4. Returns the element-wise multiplication of the matrices.\n",
        " 5. Returns the element-wise division of the matrices.\n",
        "\n",
        "Use sample matrices in which their shapes are not lower than $(3,3)$.\n",
        "In your methodology, create a flowchart discuss the functions and methods you have done. Present your results in the results section showing the description of each matrix you have declared."
      ]
    },
    {
      "cell_type": "code",
      "metadata": {
        "id": "RhUrEZmoNM9M"
      },
      "source": [
        "def mat_operations(matrix):\n",
        "    print(f'Matrix:\\n{matrix}\\n\\nShape:\\t{matrix.shape}\\nRank:\\t{matrix.ndim}\\n')"
      ],
      "execution_count": null,
      "outputs": []
    },
    {
      "cell_type": "markdown",
      "metadata": {
        "id": "2SAvYdUONYVa"
      },
      "source": [
        "####1. **Determines if the matrices are viable for operation and returns your own error message if they are not viable.**\n",
        "\n",
        "\n",
        "*   Yes the matrices are viable.\n",
        "\n",
        "\n"
      ]
    },
    {
      "cell_type": "markdown",
      "metadata": {
        "id": "1qF7RaVQNd9A"
      },
      "source": [
        "####2. **Addition**"
      ]
    },
    {
      "cell_type": "code",
      "metadata": {
        "colab": {
          "base_uri": "https://localhost:8080/"
        },
        "id": "zZEvn7-dAS3Q",
        "outputId": "4646a5fe-f24e-4b65-d3cc-82fa7e6e57f4"
      },
      "source": [
        "A = np.array([\n",
        "   [7,-2,1],\n",
        "   [8,3,6], \n",
        "   [5,5,5],\n",
        "   [6,-4,0] \n",
        "])\n",
        "B = np.array([\n",
        "   [-3,7,3],\n",
        "   [6,2,1],\n",
        "   [4,4,9],\n",
        "   [-2,9,5]   \n",
        "])\n",
        "A + B"
      ],
      "execution_count": null,
      "outputs": [
        {
          "output_type": "execute_result",
          "data": {
            "text/plain": [
              "array([[ 4,  5,  4],\n",
              "       [14,  5,  7],\n",
              "       [ 9,  9, 14],\n",
              "       [ 4,  5,  5]])"
            ]
          },
          "metadata": {},
          "execution_count": 65
        }
      ]
    },
    {
      "cell_type": "code",
      "metadata": {
        "colab": {
          "base_uri": "https://localhost:8080/"
        },
        "id": "_g8R0AntOY__",
        "outputId": "906cf46e-2cd7-4803-b94b-b2d30d3fa438"
      },
      "source": [
        "5+A"
      ],
      "execution_count": null,
      "outputs": [
        {
          "output_type": "execute_result",
          "data": {
            "text/plain": [
              "array([[12,  3,  6],\n",
              "       [13,  8, 11],\n",
              "       [10, 10, 10],\n",
              "       [11,  1,  5]])"
            ]
          },
          "metadata": {},
          "execution_count": 67
        }
      ]
    },
    {
      "cell_type": "code",
      "metadata": {
        "colab": {
          "base_uri": "https://localhost:8080/"
        },
        "id": "MuGhaAgGOc7H",
        "outputId": "7bb23d9b-d89e-4b8e-dd48-1a289b146781"
      },
      "source": [
        "2+B"
      ],
      "execution_count": null,
      "outputs": [
        {
          "output_type": "execute_result",
          "data": {
            "text/plain": [
              "array([[-1,  9,  5],\n",
              "       [ 8,  4,  3],\n",
              "       [ 6,  6, 11],\n",
              "       [ 0, 11,  7]])"
            ]
          },
          "metadata": {},
          "execution_count": 69
        }
      ]
    },
    {
      "cell_type": "markdown",
      "metadata": {
        "id": "GKXlHmIJ8gxN"
      },
      "source": [
        "#### **FLOWCHART**\n",
        "![image.png](data:image/png;base64,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)"
      ]
    },
    {
      "cell_type": "markdown",
      "metadata": {
        "id": "6w015UiTOp0P"
      },
      "source": [
        "####3. **Subtraction**\n",
        "\n",
        "\n",
        "\n"
      ]
    },
    {
      "cell_type": "code",
      "metadata": {
        "colab": {
          "base_uri": "https://localhost:8080/"
        },
        "id": "xFVidXZsOoYT",
        "outputId": "3d8ad20c-0ffb-4947-a60f-ce2a79416ddc"
      },
      "source": [
        "A-B"
      ],
      "execution_count": null,
      "outputs": [
        {
          "output_type": "execute_result",
          "data": {
            "text/plain": [
              "array([[ 10,  -9,  -2],\n",
              "       [  2,   1,   5],\n",
              "       [  1,   1,  -4],\n",
              "       [  8, -13,  -5]])"
            ]
          },
          "metadata": {},
          "execution_count": 70
        }
      ]
    },
    {
      "cell_type": "code",
      "metadata": {
        "colab": {
          "base_uri": "https://localhost:8080/"
        },
        "id": "h2wmb6T2ATId",
        "outputId": "6d7ac303-9796-48ba-aae6-4f6385ee6151"
      },
      "source": [
        "4-A"
      ],
      "execution_count": null,
      "outputs": [
        {
          "output_type": "execute_result",
          "data": {
            "text/plain": [
              "array([[-3,  6,  3],\n",
              "       [-4,  1, -2],\n",
              "       [-1, -1, -1],\n",
              "       [-2,  8,  4]])"
            ]
          },
          "metadata": {},
          "execution_count": 71
        }
      ]
    },
    {
      "cell_type": "code",
      "metadata": {
        "colab": {
          "base_uri": "https://localhost:8080/"
        },
        "id": "Dk2eD7spATkB",
        "outputId": "21f60250-7daf-453d-f30d-3f436ed243bb"
      },
      "source": [
        "4-B"
      ],
      "execution_count": null,
      "outputs": [
        {
          "output_type": "execute_result",
          "data": {
            "text/plain": [
              "array([[ 7, -3,  1],\n",
              "       [-2,  2,  3],\n",
              "       [ 0,  0, -5],\n",
              "       [ 6, -5, -1]])"
            ]
          },
          "metadata": {},
          "execution_count": 72
        }
      ]
    },
    {
      "cell_type": "markdown",
      "metadata": {
        "id": "WWuQ2Cqb8lM9"
      },
      "source": [
        "#### **FLOWCHART**\n",
        "![image.png](data:image/png;base64,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)"
      ]
    },
    {
      "cell_type": "markdown",
      "metadata": {
        "id": "-tEgztjePoAq"
      },
      "source": [
        "####4. **Element-Wise Multiplication**"
      ]
    },
    {
      "cell_type": "code",
      "metadata": {
        "colab": {
          "base_uri": "https://localhost:8080/"
        },
        "id": "K6dJkSQtPw70",
        "outputId": "65416f84-7d2f-454c-ad78-7332d7edd497"
      },
      "source": [
        "A*B\n",
        "np.multiply(A,B)"
      ],
      "execution_count": null,
      "outputs": [
        {
          "output_type": "execute_result",
          "data": {
            "text/plain": [
              "array([[-21, -14,   3],\n",
              "       [ 48,   6,   6],\n",
              "       [ 20,  20,  45],\n",
              "       [-12, -36,   0]])"
            ]
          },
          "metadata": {},
          "execution_count": 74
        }
      ]
    },
    {
      "cell_type": "code",
      "metadata": {
        "colab": {
          "base_uri": "https://localhost:8080/"
        },
        "id": "xj9DQcC9P8F3",
        "outputId": "777a6d7b-d67f-4439-c499-4da8843b980a"
      },
      "source": [
        "3*A"
      ],
      "execution_count": null,
      "outputs": [
        {
          "output_type": "execute_result",
          "data": {
            "text/plain": [
              "array([[ 21,  -6,   3],\n",
              "       [ 24,   9,  18],\n",
              "       [ 15,  15,  15],\n",
              "       [ 18, -12,   0]])"
            ]
          },
          "metadata": {},
          "execution_count": 75
        }
      ]
    },
    {
      "cell_type": "code",
      "metadata": {
        "colab": {
          "base_uri": "https://localhost:8080/"
        },
        "id": "8xOG5XYWP-1b",
        "outputId": "cde37c84-5108-48f1-e7f8-edcb99b6829d"
      },
      "source": [
        "8*B"
      ],
      "execution_count": null,
      "outputs": [
        {
          "output_type": "execute_result",
          "data": {
            "text/plain": [
              "array([[-24,  56,  24],\n",
              "       [ 48,  16,   8],\n",
              "       [ 32,  32,  72],\n",
              "       [-16,  72,  40]])"
            ]
          },
          "metadata": {},
          "execution_count": 76
        }
      ]
    },
    {
      "cell_type": "markdown",
      "metadata": {
        "id": "aaT9-FnH82rw"
      },
      "source": [
        "#### **FLOWCHART**\n",
        "![image.png](data:image/png;base64,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)"
      ]
    },
    {
      "cell_type": "markdown",
      "metadata": {
        "id": "ZQTbMDVoQFA2"
      },
      "source": [
        "####5. **Element-Wise Division**"
      ]
    },
    {
      "cell_type": "code",
      "metadata": {
        "colab": {
          "base_uri": "https://localhost:8080/"
        },
        "id": "uo5rxaErQLV7",
        "outputId": "06e03506-906c-42ce-cc4a-ba3818d8da64"
      },
      "source": [
        "A/B"
      ],
      "execution_count": null,
      "outputs": [
        {
          "output_type": "execute_result",
          "data": {
            "text/plain": [
              "array([[-2.33333333, -0.28571429,  0.33333333],\n",
              "       [ 1.33333333,  1.5       ,  6.        ],\n",
              "       [ 1.25      ,  1.25      ,  0.55555556],\n",
              "       [-3.        , -0.44444444,  0.        ]])"
            ]
          },
          "metadata": {},
          "execution_count": 77
        }
      ]
    },
    {
      "cell_type": "code",
      "metadata": {
        "colab": {
          "base_uri": "https://localhost:8080/"
        },
        "id": "EZmtLdSXQEry",
        "outputId": "a87174e3-3b3b-4d5d-daa6-7395bbe7f46b"
      },
      "source": [
        "alpha=12**-12\n",
        "A/(alpha+B)"
      ],
      "execution_count": null,
      "outputs": [
        {
          "output_type": "execute_result",
          "data": {
            "text/plain": [
              "array([[-2.33333333, -0.28571429,  0.33333333],\n",
              "       [ 1.33333333,  1.5       ,  6.        ],\n",
              "       [ 1.25      ,  1.25      ,  0.55555556],\n",
              "       [-3.        , -0.44444444,  0.        ]])"
            ]
          },
          "metadata": {},
          "execution_count": 78
        }
      ]
    },
    {
      "cell_type": "markdown",
      "metadata": {
        "id": "op1lhBrU9Hvr"
      },
      "source": [
        "#### **FLOWCHART**\n",
        "![image.png](data:image/png;base64,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)"
      ]
    },
    {
      "cell_type": "markdown",
      "metadata": {
        "id": "D0jYHfBdAT3u"
      },
      "source": [
        "## ***Conclusion***"
      ]
    },
    {
      "cell_type": "markdown",
      "metadata": {
        "id": "T1J32XwJAWZX"
      },
      "source": [
        "Numbers are everywhere and seeing too many of these numbers in the same place can often be confusing or irritating. But, it's a good thing that there's now what we call \"matrices\". Matrices are an array of numbers that are arranged in rows and columns. Since we've already knew how to insert codes and texts in our program, we've properly written a proper program about matrices and the functions to use to make it work. We learned here that there are different types of matrices like the zeros, ones, null, diagonal, identity, and etc. And we also knew that we can also do basic operations between two matrices such as addition, subtraction, multiplication and division. For such a complex topic like matrices which uses many numbers, this matrices can actually help us in a number of things such as helping us represent a large number of data or mathematical equations. It also provides us with quicker solving of more complex calculations which are mostly used in Statistics and in Chemistry. These applications of matrices will surely help us in solving complex computations that will benefit all of us in our future studies. "
      ]
    }
  ]
}