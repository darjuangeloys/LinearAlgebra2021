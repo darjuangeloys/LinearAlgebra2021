{
  "nbformat": 4,
  "nbformat_minor": 0,
  "metadata": {
    "colab": {
      "name": "Copy of Assignment2.ipynb",
      "provenance": [],
      "authorship_tag": "ABX9TyNbAl2+azMYJqgiY3EV5XtI",
      "include_colab_link": true
    },
    "kernelspec": {
      "name": "python3",
      "display_name": "Python 3"
    },
    "language_info": {
      "name": "python"
    }
  },
  "cells": [
    {
      "cell_type": "markdown",
      "metadata": {
        "id": "view-in-github",
        "colab_type": "text"
      },
      "source": [
        "<a href=\"https://colab.research.google.com/github/darjuangeloys/LinearAlgebra2021/blob/main/Assignment2_DarJuan.ipynb\" target=\"_parent\"><img src=\"https://colab.research.google.com/assets/colab-badge.svg\" alt=\"Open In Colab\"/></a>"
      ]
    },
    {
      "cell_type": "markdown",
      "metadata": {
        "id": "vQWclBac1lht"
      },
      "source": [
        "# **Welcome to Python Fundamentals!**\n",
        "![image](https://content.techgig.com/photo/79386213/5-myths-around-python-programming-language-that-every-programmer-must-know.jpg?88712)\n",
        "\n",
        "In this module, we are going to establish our skills in Phyton programming. In this notebook we are going to cover:\n",
        "\n",
        "\n",
        "*   Variables and Data Types\n",
        "*   Operations\n",
        "*   Input and Output Operations\n",
        "*   Logic Control\n",
        "*   Iterables\n",
        "*   Functions\n",
        "\n",
        "\n",
        "\n",
        "\n",
        "\n"
      ]
    },
    {
      "cell_type": "markdown",
      "metadata": {
        "id": "daJNnwHJ2oZY"
      },
      "source": [
        "## ***Variables and Data Types***\n",
        "![image](https://static.javatpoint.com/python/images/python-data-types.png)\n",
        "\n",
        "Variables and data types in python as the name suggests are the values that vary. In a programming language, a variable is a memory location where you store a value. The value that you have stored may change in the future according to the specifications. A variable in python is created as soon as a value is assigned to it. [1]"
      ]
    },
    {
      "cell_type": "code",
      "metadata": {
        "id": "VUVMlcWR0808"
      },
      "source": [
        "x = 1\n",
        "a, b = 3, -2\n"
      ],
      "execution_count": null,
      "outputs": []
    },
    {
      "cell_type": "code",
      "metadata": {
        "colab": {
          "base_uri": "https://localhost:8080/"
        },
        "id": "vTxgf6Kp3e19",
        "outputId": "2073741f-3ba0-4353-bdda-d949dc608ef2"
      },
      "source": [
        "type(x)"
      ],
      "execution_count": null,
      "outputs": [
        {
          "output_type": "execute_result",
          "data": {
            "text/plain": [
              "int"
            ]
          },
          "metadata": {},
          "execution_count": 4
        }
      ]
    },
    {
      "cell_type": "markdown",
      "metadata": {
        "id": "y3PfUKzzmd1h"
      },
      "source": [
        ""
      ]
    },
    {
      "cell_type": "code",
      "metadata": {
        "colab": {
          "base_uri": "https://localhost:8080/"
        },
        "id": "-gHhUxgM3mMP",
        "outputId": "51b71f5c-c59b-4e11-fee1-7187be5bc845"
      },
      "source": [
        "y  = 3.0\n",
        "type(y)"
      ],
      "execution_count": null,
      "outputs": [
        {
          "output_type": "execute_result",
          "data": {
            "text/plain": [
              "float"
            ]
          },
          "metadata": {},
          "execution_count": 5
        }
      ]
    },
    {
      "cell_type": "code",
      "metadata": {
        "colab": {
          "base_uri": "https://localhost:8080/"
        },
        "id": "qQhbGrnd37gx",
        "outputId": "200b35df-d609-4c6d-8b69-974e2679ddc1"
      },
      "source": [
        "x = float(x)\n",
        "type(x)\n",
        "x"
      ],
      "execution_count": null,
      "outputs": [
        {
          "output_type": "execute_result",
          "data": {
            "text/plain": [
              "1.0"
            ]
          },
          "metadata": {},
          "execution_count": 7
        }
      ]
    },
    {
      "cell_type": "code",
      "metadata": {
        "id": "F7MXe6ET4Mvi"
      },
      "source": [
        "s, t, u = \"1\", '3', 'three'\n",
        "type(u)"
      ],
      "execution_count": null,
      "outputs": []
    },
    {
      "cell_type": "markdown",
      "metadata": {
        "id": "HkUWO8zV4n2n"
      },
      "source": [
        "## ***Operations***\n",
        "![image](https://blog.simpliv.com/wp-content/uploads/2021/06/2-5.jpg)\n",
        "\n",
        "Operators are special symbols in Python that carry out arithmetic or logical computation. The value that the operator operates on is called the \"operand\" [2]"
      ]
    },
    {
      "cell_type": "markdown",
      "metadata": {
        "id": "_pEf2qVo4uiN"
      },
      "source": [
        "### *Arithmetic*\n",
        "![image](data:image/jpeg;base64,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)\n",
        "\n",
        "Arithmetic operators are used to perform mathematical operations like addition, subtraction, multiplication, etc."
      ]
    },
    {
      "cell_type": "code",
      "metadata": {
        "id": "dNV9fW_R401B"
      },
      "source": [
        "w, x, y, z = 4.0, -3.0, 1, -32"
      ],
      "execution_count": null,
      "outputs": []
    },
    {
      "cell_type": "code",
      "metadata": {
        "id": "T5L9nPcH5ICe"
      },
      "source": [
        "### Addition\n",
        "S = w + x"
      ],
      "execution_count": null,
      "outputs": []
    },
    {
      "cell_type": "code",
      "metadata": {
        "id": "dWd1s5nR5eTp"
      },
      "source": [
        "### Subtraction\n",
        "D = y - z"
      ],
      "execution_count": null,
      "outputs": []
    },
    {
      "cell_type": "code",
      "metadata": {
        "id": "iL5KSwmm5mbZ"
      },
      "source": [
        "### Multiplication\n",
        "P = w*z"
      ],
      "execution_count": null,
      "outputs": []
    },
    {
      "cell_type": "code",
      "metadata": {
        "id": "luKbzbf05u8V"
      },
      "source": [
        "### Division\n",
        "Q = y/x"
      ],
      "execution_count": null,
      "outputs": []
    },
    {
      "cell_type": "code",
      "metadata": {
        "colab": {
          "base_uri": "https://localhost:8080/"
        },
        "id": "BBCtjW7l6UtW",
        "outputId": "0177d122-ed67-4aff-f820-8be7796cfcde"
      },
      "source": [
        "### Floor Division\n",
        "Qf = w//x\n",
        "Qf"
      ],
      "execution_count": null,
      "outputs": [
        {
          "output_type": "execute_result",
          "data": {
            "text/plain": [
              "-2.0"
            ]
          },
          "metadata": {},
          "execution_count": 6
        }
      ]
    },
    {
      "cell_type": "markdown",
      "metadata": {
        "id": "Trf61Q1Fm8BS"
      },
      "source": [
        "***What's the difference between a standard division and a floor division?***\n",
        "![image](https://i.ytimg.com/vi/mv5uHSXLkhs/maxresdefault.jpg)\n",
        "-In floor division, it returns the largest possible integer. [3]"
      ]
    },
    {
      "cell_type": "code",
      "metadata": {
        "id": "etzjDfCh7FfO"
      },
      "source": [
        "### Exponentiation\n",
        "E = w**y"
      ],
      "execution_count": null,
      "outputs": []
    },
    {
      "cell_type": "code",
      "metadata": {
        "colab": {
          "base_uri": "https://localhost:8080/"
        },
        "id": "sHcqLQjq7Yml",
        "outputId": "4277ce55-bcd1-4bbe-c1b4-d03bda6b36dc"
      },
      "source": [
        "### Modulo \n",
        "mod = z%x\n",
        "mod"
      ],
      "execution_count": null,
      "outputs": [
        {
          "output_type": "execute_result",
          "data": {
            "text/plain": [
              "-2.0"
            ]
          },
          "metadata": {},
          "execution_count": 8
        }
      ]
    },
    {
      "cell_type": "markdown",
      "metadata": {
        "id": "zOszCiyAoIr6"
      },
      "source": [
        "***What is Modulo?***\n",
        "\n",
        "![image](data:image/png;base64,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)\n",
        "\n",
        "If in a floor division, it gives the largest possible integer, Modulo gives the remainder of the two divided values. [4]"
      ]
    },
    {
      "cell_type": "markdown",
      "metadata": {
        "id": "dfE8jWxv7qwT"
      },
      "source": [
        "### *Assignment*\n",
        "![image](https://pbs.twimg.com/profile_images/656117090533945344/YyIPQDsj_400x400.png)\n",
        "\n",
        "Assignment operators are used to assign values to variables."
      ]
    },
    {
      "cell_type": "code",
      "metadata": {
        "id": "X5VI1VfA7xfH"
      },
      "source": [
        "A, B, C, D, E = 0, 100, 2, 1, 2"
      ],
      "execution_count": null,
      "outputs": []
    },
    {
      "cell_type": "code",
      "metadata": {
        "id": "BScqgAnZ73rD"
      },
      "source": [
        "A += w"
      ],
      "execution_count": null,
      "outputs": []
    },
    {
      "cell_type": "code",
      "metadata": {
        "id": "_aEA2BWI8OPK"
      },
      "source": [
        "B -= x"
      ],
      "execution_count": null,
      "outputs": []
    },
    {
      "cell_type": "code",
      "metadata": {
        "id": "b9u4nSiL8c1o"
      },
      "source": [
        "C *= w"
      ],
      "execution_count": null,
      "outputs": []
    },
    {
      "cell_type": "code",
      "metadata": {
        "id": "QnQrxXDL9TZH"
      },
      "source": [
        "D /= x"
      ],
      "execution_count": null,
      "outputs": []
    },
    {
      "cell_type": "code",
      "metadata": {
        "id": "L-SG97o79f9_"
      },
      "source": [
        "E **= y"
      ],
      "execution_count": null,
      "outputs": []
    },
    {
      "cell_type": "markdown",
      "metadata": {
        "id": "ExEDdfjm-Szi"
      },
      "source": [
        "### *Comparators*\n",
        "![image](data:image/jpeg;base64,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)\n",
        "\n",
        "Comparators or Comparison operators are used to compare values. It returns either True or False according to the condition. "
      ]
    },
    {
      "cell_type": "code",
      "metadata": {
        "id": "Bsjk0SXn-Un5"
      },
      "source": [
        "size_1, size_2, size_3 = 1, 2.0, \"1\"\n",
        "true_size = 1.0;"
      ],
      "execution_count": null,
      "outputs": []
    },
    {
      "cell_type": "code",
      "metadata": {
        "id": "x5lqfIXO-qZo",
        "colab": {
          "base_uri": "https://localhost:8080/"
        },
        "outputId": "8931926c-7264-41c6-c60b-ccb356a1caee"
      },
      "source": [
        "## Equality\n",
        "size_1 == true_size"
      ],
      "execution_count": null,
      "outputs": [
        {
          "output_type": "execute_result",
          "data": {
            "text/plain": [
              "True"
            ]
          },
          "metadata": {},
          "execution_count": 16
        }
      ]
    },
    {
      "cell_type": "code",
      "metadata": {
        "colab": {
          "base_uri": "https://localhost:8080/"
        },
        "id": "fKWlub17-4sb",
        "outputId": "bba07d8e-acd6-4556-9439-07f74a11fa53"
      },
      "source": [
        "## Non-equality\n",
        "size_2 != true_size"
      ],
      "execution_count": null,
      "outputs": [
        {
          "output_type": "execute_result",
          "data": {
            "text/plain": [
              "True"
            ]
          },
          "metadata": {},
          "execution_count": 17
        }
      ]
    },
    {
      "cell_type": "code",
      "metadata": {
        "id": "0-n-li16_Cf-"
      },
      "source": [
        "## Inequality\n",
        "s1 = size_1 > size_2\n",
        "s2 = size_1 < size_2/2\n",
        "s3 = true_size >= size_1\n",
        "s4 = size_2 <= true_size"
      ],
      "execution_count": null,
      "outputs": []
    },
    {
      "cell_type": "markdown",
      "metadata": {
        "id": "Gxz477XL_0iC"
      },
      "source": [
        "### *Logical*\n",
        "Logical operators are the and, or, not operators "
      ]
    },
    {
      "cell_type": "code",
      "metadata": {
        "id": "o83Pj3PY_9R_",
        "colab": {
          "base_uri": "https://localhost:8080/"
        },
        "outputId": "2c927fd9-a71d-4e4a-f467-4a19057ee9e1"
      },
      "source": [
        "size_1 == true_size"
      ],
      "execution_count": null,
      "outputs": [
        {
          "output_type": "execute_result",
          "data": {
            "text/plain": [
              "True"
            ]
          },
          "metadata": {},
          "execution_count": 19
        }
      ]
    },
    {
      "cell_type": "code",
      "metadata": {
        "id": "5_1ym-OdAMSE",
        "colab": {
          "base_uri": "https://localhost:8080/"
        },
        "outputId": "9a7d7421-c52a-49fe-eca1-226fc62e9544"
      },
      "source": [
        "size_1 is true_size"
      ],
      "execution_count": null,
      "outputs": [
        {
          "output_type": "execute_result",
          "data": {
            "text/plain": [
              "False"
            ]
          },
          "metadata": {},
          "execution_count": 20
        }
      ]
    },
    {
      "cell_type": "code",
      "metadata": {
        "id": "aoJTi1wQAdmD",
        "colab": {
          "base_uri": "https://localhost:8080/"
        },
        "outputId": "1e1aa3cd-89f7-4581-9ae9-c8ba228d3378"
      },
      "source": [
        "size_1 is not true_size"
      ],
      "execution_count": null,
      "outputs": [
        {
          "output_type": "execute_result",
          "data": {
            "text/plain": [
              "True"
            ]
          },
          "metadata": {},
          "execution_count": 21
        }
      ]
    },
    {
      "cell_type": "code",
      "metadata": {
        "id": "pW3-3Xu-Ag30"
      },
      "source": [
        "P, Q = True, False\n",
        "conj = P and Q"
      ],
      "execution_count": null,
      "outputs": []
    },
    {
      "cell_type": "code",
      "metadata": {
        "id": "kzy4nxzuA8dK",
        "colab": {
          "base_uri": "https://localhost:8080/"
        },
        "outputId": "76ec0afd-7ded-4652-f860-691a2275d05a"
      },
      "source": [
        "disj = P or Q\n",
        "disj"
      ],
      "execution_count": null,
      "outputs": [
        {
          "output_type": "execute_result",
          "data": {
            "text/plain": [
              "True"
            ]
          },
          "metadata": {},
          "execution_count": 23
        }
      ]
    },
    {
      "cell_type": "code",
      "metadata": {
        "id": "QYvZ8EwuBHQf",
        "colab": {
          "base_uri": "https://localhost:8080/"
        },
        "outputId": "84a80914-a759-4c14-b7b7-2312e973f389"
      },
      "source": [
        "nand = not(P and Q)\n",
        "nand"
      ],
      "execution_count": null,
      "outputs": [
        {
          "output_type": "execute_result",
          "data": {
            "text/plain": [
              "True"
            ]
          },
          "metadata": {},
          "execution_count": 24
        }
      ]
    },
    {
      "cell_type": "code",
      "metadata": {
        "id": "xtF1pcsgBV-y",
        "colab": {
          "base_uri": "https://localhost:8080/"
        },
        "outputId": "df85a263-e14b-45c3-8a10-a5adf63e98fc"
      },
      "source": [
        "xor = (not P and Q) or (P and not Q)\n",
        "xor"
      ],
      "execution_count": null,
      "outputs": [
        {
          "output_type": "execute_result",
          "data": {
            "text/plain": [
              "True"
            ]
          },
          "metadata": {},
          "execution_count": 25
        }
      ]
    },
    {
      "cell_type": "markdown",
      "metadata": {
        "id": "PyR-MCpCBu5H"
      },
      "source": [
        "## ***Input and Output***\n",
        "These are functions used to connect with the user of the program. We use the print() function to output data to the standard output device and we use the input () to take the input from the user. [5]"
      ]
    },
    {
      "cell_type": "code",
      "metadata": {
        "colab": {
          "base_uri": "https://localhost:8080/"
        },
        "id": "ECbAfEYgB1z-",
        "outputId": "afcadaeb-ea04-4328-9e68-2b5ae919d6f3"
      },
      "source": [
        "print(\"Hello World!\")"
      ],
      "execution_count": null,
      "outputs": [
        {
          "output_type": "stream",
          "name": "stdout",
          "text": [
            "Hello World!\n"
          ]
        }
      ]
    },
    {
      "cell_type": "code",
      "metadata": {
        "id": "Zw3cBq7ZCBQC"
      },
      "source": [
        "cnt = 14000"
      ],
      "execution_count": null,
      "outputs": []
    },
    {
      "cell_type": "code",
      "metadata": {
        "id": "vQj6sX9vCHWa"
      },
      "source": [
        "string = \"Hello World!\"\n",
        "print(string, \", Current COVID count is:\", cnt)\n",
        "cnt += 10000"
      ],
      "execution_count": null,
      "outputs": []
    },
    {
      "cell_type": "code",
      "metadata": {
        "colab": {
          "base_uri": "https://localhost:8080/"
        },
        "id": "gFJ5e0AlC5Yx",
        "outputId": "09a9475c-3918-4dae-ae76-d753b9b2766b"
      },
      "source": [
        "print(f\"{string}, current count is: {cnt}\")"
      ],
      "execution_count": null,
      "outputs": [
        {
          "output_type": "stream",
          "name": "stdout",
          "text": [
            "Hello World!, current count is: 64007\n"
          ]
        }
      ]
    },
    {
      "cell_type": "code",
      "metadata": {
        "colab": {
          "base_uri": "https://localhost:8080/"
        },
        "id": "GYHZWMZrDwkS",
        "outputId": "0155f0a6-3341-41c6-a1f7-be5dcc8647c9"
      },
      "source": [
        "sem_grade = 86.25\n",
        "name = \"Lois\"\n",
        "print(\"Hello {}, your semestral grades is: {}\". format(name, sem_grade))"
      ],
      "execution_count": null,
      "outputs": [
        {
          "output_type": "stream",
          "name": "stdout",
          "text": [
            "Hello Lois, your semestral grades is: 86.25\n"
          ]
        }
      ]
    },
    {
      "cell_type": "code",
      "metadata": {
        "id": "GqHMj8yIDQpW"
      },
      "source": [
        "pg, mg, fg = 0.3, 0.3, 0.4\n",
        "print(\"The weights of your semestral grade are:\\\n",
        "\\n\\t {:.2%} for Prelims\\\n",
        "\\n\\t {:.2%} for Midterms, and\\\n",
        "\\n\\t {:.2%} for Finals.\".format(pg, mg, fg))"
      ],
      "execution_count": null,
      "outputs": []
    },
    {
      "cell_type": "code",
      "metadata": {
        "id": "lVddP62WFgSn"
      },
      "source": [
        "e = input(\"Enter a number: \")\n",
        "e"
      ],
      "execution_count": null,
      "outputs": []
    },
    {
      "cell_type": "code",
      "metadata": {
        "id": "6belD7W1F7Sl"
      },
      "source": [
        "name = input(\"Enter your name: \")\n",
        "pg = input(\"Enter prelim grade: \")\n",
        "mg = input(\"Enter midterm grade: \")\n",
        "fg = input(\"Enter final grade: \")\n",
        "sem_grade = None\n",
        "print(\"Hello {}, your semestral grade is: {}\".format(name, sem_grade))"
      ],
      "execution_count": null,
      "outputs": []
    },
    {
      "cell_type": "markdown",
      "metadata": {
        "id": "zHzgAaBHLNQs"
      },
      "source": [
        "## ***Looping statements***\n",
        "Loops are powerful programming concepts supported by almost all modern programming languages. It allows a program to implement iterations, which basically means executing the same block of code two or more times depending on the specified conditions of the user or the codes in the program itself. [6]"
      ]
    },
    {
      "cell_type": "markdown",
      "metadata": {
        "id": "Q1uip9oZLUg0"
      },
      "source": [
        "## *While*\n",
        "![image](https://cdn.programiz.com/sites/tutorial2program/files/whileLoopFlowchart.jpg)\n",
        "\n",
        "A while loop is used to iterate over a block of code as long as the test expression or condition is \"true\". [7]"
      ]
    },
    {
      "cell_type": "code",
      "metadata": {
        "colab": {
          "base_uri": "https://localhost:8080/"
        },
        "id": "0XzvDvSQLXN_",
        "outputId": "c12ced57-45b7-4f13-cfe2-8f238f368eec"
      },
      "source": [
        "## while loops\n",
        "i, j = 0, 10\n",
        "while(i <= j):\n",
        "  print(f\"{i}\\t|\\t{j}\")\n",
        "  i += 1"
      ],
      "execution_count": null,
      "outputs": [
        {
          "output_type": "stream",
          "name": "stdout",
          "text": [
            "0\t|\t10\n",
            "1\t|\t10\n",
            "2\t|\t10\n",
            "3\t|\t10\n",
            "4\t|\t10\n",
            "5\t|\t10\n",
            "6\t|\t10\n",
            "7\t|\t10\n",
            "8\t|\t10\n",
            "9\t|\t10\n",
            "10\t|\t10\n"
          ]
        }
      ]
    },
    {
      "cell_type": "markdown",
      "metadata": {
        "id": "dtPGgjI5L-0I"
      },
      "source": [
        "## *For*\n",
        "![image](https://cdn.programiz.com/sites/tutorial2program/files/forLoop.jpg)\n",
        "\n",
        "The for loop in Python is used to iterate over a sequence (list, tuple, string) or other iterable objects [8]"
      ]
    },
    {
      "cell_type": "code",
      "metadata": {
        "id": "8-YdEdizL3O6"
      },
      "source": [
        "# for(int = 0; i<=10, i++){\n",
        "# printf(i)\n",
        "# }\n",
        "\n",
        "i = 0 \n",
        "for i in range(11):\n",
        "  print(i)"
      ],
      "execution_count": null,
      "outputs": []
    },
    {
      "cell_type": "code",
      "metadata": {
        "colab": {
          "base_uri": "https://localhost:8080/"
        },
        "id": "2iXLVf2eMrKQ",
        "outputId": "0617778b-d5e5-496c-fc2f-5c863700f36d"
      },
      "source": [
        "playlist = [\"Bahay Kubo\", \"Magandang Kanta\", \"Buko\"]\n",
        "print('Now Playing:\\n')\n",
        "for song in playlist: \n",
        "  print(song)"
      ],
      "execution_count": null,
      "outputs": [
        {
          "output_type": "stream",
          "name": "stdout",
          "text": [
            "Now Playing:\n",
            "\n",
            "Bahay Kubo\n",
            "Magandang Kanta\n",
            "Buko\n"
          ]
        }
      ]
    },
    {
      "cell_type": "markdown",
      "metadata": {
        "id": "QUsXdb5cNMyN"
      },
      "source": [
        "## ***Flow Control***\n",
        "Flow control is the order in which statements or the blocks of code in the program are executed at runtime based on a condition. [9]"
      ]
    },
    {
      "cell_type": "markdown",
      "metadata": {
        "id": "axqMeYgxNTI4"
      },
      "source": [
        "### *Condition Statements*"
      ]
    },
    {
      "cell_type": "code",
      "metadata": {
        "id": "S2TAJ3cvNWBm"
      },
      "source": [
        "num_1, num_2 = 14, 12\n",
        "if(num_1 == num_2):\n",
        "  print(\"HAHA\")\n",
        "elif(num_1>num_2):\n",
        "  print(\"HOHO\")\n",
        "else:\n",
        "  print(\"HUHU\")"
      ],
      "execution_count": null,
      "outputs": []
    },
    {
      "cell_type": "markdown",
      "metadata": {
        "id": "vCXkMttFN94k"
      },
      "source": [
        "## ***Functions***\n",
        "A function is a group of related statements that performs a specific task. It helps break our program into smaller and modular chunks, making it more organized and manageable. [10]"
      ]
    },
    {
      "cell_type": "code",
      "metadata": {
        "id": "Nzl2gKHcOAJr"
      },
      "source": [
        "# void DeleteUser (int userid){\n",
        "#   delete(userid);\n",
        "#}\n",
        "\n",
        "def delete_user (userid):\n",
        "    print(\"Successfully deleted user: {}\".format(userid))"
      ],
      "execution_count": null,
      "outputs": []
    },
    {
      "cell_type": "code",
      "metadata": {
        "colab": {
          "base_uri": "https://localhost:8080/"
        },
        "id": "-Fb9R2b7OcmK",
        "outputId": "d5a8c9fa-76ce-4f2f-b663-7c058f507e5a"
      },
      "source": [
        "userid = 2020_100100\n",
        "delete_user(2020_100100)"
      ],
      "execution_count": null,
      "outputs": [
        {
          "output_type": "stream",
          "name": "stdout",
          "text": [
            "Successfully deleted user: 2020100100\n"
          ]
        }
      ]
    },
    {
      "cell_type": "code",
      "metadata": {
        "id": "bTvkto6HO2JB"
      },
      "source": [
        "def add(addend1, addend2):\n",
        "    sum = addend1 + addend2\n",
        "    return sum"
      ],
      "execution_count": null,
      "outputs": []
    },
    {
      "cell_type": "code",
      "metadata": {
        "colab": {
          "base_uri": "https://localhost:8080/"
        },
        "id": "U58q367fPtN0",
        "outputId": "43eeedba-acab-4934-ac9c-d97466374eca"
      },
      "source": [
        "add(5, 4)"
      ],
      "execution_count": null,
      "outputs": [
        {
          "output_type": "execute_result",
          "data": {
            "text/plain": [
              "9"
            ]
          },
          "metadata": {},
          "execution_count": 121
        }
      ]
    },
    {
      "cell_type": "markdown",
      "metadata": {
        "id": "y1tWaSU1pwZR"
      },
      "source": [
        "## **References:**\n",
        "\n",
        "[1] Variables and Data Types in Python (2021). (https://www.edureka.co/blog/variables-and-data-types-in-python/)\n",
        "\n",
        "[2] Python Operators (2021). (https://www.programiz.com/python-programming/operators)\n",
        "\n",
        "[3] Python Floor Division (2021). https://www.pythontutorial.net/advanced-python/python-floor-division/\n",
        "\n",
        "[4] Python Modulo in Practice: How to Use the % Operator (2020). (https://realpython.com/python-modulo-operator/)\n",
        "\n",
        "[5] Python Input, Output, and Import (2021). (https://www.programiz.com/python-programming/input-output-import)\n",
        "\n",
        "[6] Python Loops – For, While, Nested Loops With Examples (2021). (https://www.softwaretestinghelp.com/python/looping-in-python-for-while-nested-loops/)\n",
        "\n",
        "[7] Python while Loop (2021). (https://www.programiz.com/python-programming/while-loop)\n",
        "\n",
        "[8] Python for Loop (2021). (https://www.programiz.com/python-programming/for-loop)\n",
        "\n",
        "[9] Python Control Flow Statements and Loops (2021). (https://pynative.com/python-control-flow-statements/)\n",
        "\n",
        "[10] Python Functions (2021). (https://www.programiz.com/python-programming/function)"
      ]
    }
  ]
}